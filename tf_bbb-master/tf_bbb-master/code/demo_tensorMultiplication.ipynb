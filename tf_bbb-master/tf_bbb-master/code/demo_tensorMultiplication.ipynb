{
 "cells": [
  {
   "cell_type": "markdown",
   "metadata": {},
   "source": [
    "# Matrix multiplication"
   ]
  },
  {
   "cell_type": "code",
   "execution_count": 1,
   "metadata": {
    "ExecuteTime": {
     "end_time": "2018-04-11T05:05:21.270352Z",
     "start_time": "2018-04-11T05:05:20.378259Z"
    }
   },
   "outputs": [
    {
     "name": "stdout",
     "output_type": "stream",
     "text": [
      "Packages loaded.\n",
      "TF version: 1.3.0\n"
     ]
    }
   ],
   "source": [
    "import nbloader\n",
    "import tensorflow as tf\n",
    "import numpy as np\n",
    "from demo_util import gpusession\n",
    "print (\"Packages loaded.\")\n",
    "print 'TF version: '+tf.__version__"
   ]
  },
  {
   "cell_type": "markdown",
   "metadata": {},
   "source": [
    "### Checking tensor operations \n",
    "- For each N data in a batch\n",
    "    - Sample K weight matrices whose size is [Q x D]\n",
    "- Weight sampler: [N x D x K x Q]"
   ]
  },
  {
   "cell_type": "code",
   "execution_count": 3,
   "metadata": {
    "ExecuteTime": {
     "end_time": "2018-04-11T05:05:33.850821Z",
     "start_time": "2018-04-11T05:05:33.779762Z"
    },
    "scrolled": true
   },
   "outputs": [
    {
     "name": "stdout",
     "output_type": "stream",
     "text": [
      "err: 2.534e-07\n"
     ]
    }
   ],
   "source": [
    "# Configuration\n",
    "Q = 3 # Input dimension\n",
    "D = 2 # Output dimension\n",
    "K = 4 # Number of mixture\n",
    "\n",
    "# Make Graph\n",
    "# Input placeholder and reshape\n",
    "X = tf.placeholder(dtype=tf.float32,shape=[None,Q]) # Input [N x Q]\n",
    "nX,dimX = tf.shape(X)[0],tf.shape(X)[1] # Get size of X, (nX=N, dimX=Q)\n",
    "Xrsh = tf.reshape(X,shape=[nX,dimX,1]) # [N x Q x 1]\n",
    "\n",
    "# Random sampler (this will work as BBB.)\n",
    "# Sample K times using sampler\n",
    "samplerList = []\n",
    "for sIdx in range(K): # Make a list of K samplers \n",
    "    PZ = tf.random_normal(shape=[nX,Q,D],mean=0,stddev=1,dtype=tf.float32) # [N x Q x D]\n",
    "    QZ = tf.random_normal(shape=[nX,Q,D],mean=0,stddev=1,dtype=tf.float32) # [N x Q x D]\n",
    "    samplerList.append(PZ+QZ)\n",
    "WlistConcat = tf.convert_to_tensor(samplerList) # [K x N x Q x D]\n",
    "WlistConcatTr = tf.transpose(WlistConcat,perm=[1,3,0,2]) # [N x D x K x Q]\n",
    "\n",
    "# Matrix multiplication\n",
    "WlistConcatTrRsh = tf.reshape(WlistConcatTr,shape=[nX,K*D,dimX]) # [N x KD x Q]\n",
    "mu = tf.matmul(WlistConcatTrRsh,Xrsh) # [N x KD x Q] x [N x Q x 1] => [N x KD x 1]\n",
    "muRsh = tf.reshape(mu,shape=[nX,D,K]) # [N x D x K]\n",
    "\n",
    "# Run\n",
    "N = 5 # Batch size\n",
    "Xval = np.random.rand(N,Q) # Random batch inputs\n",
    "sess = gpusession() # Open session\n",
    "WlistConcatTrVar,muRshVal \\\n",
    "    = sess.run([WlistConcatTr,muRsh],feed_dict={X:Xval}) # [N x K x D x Q] / [N x D x K]\n",
    "\n",
    "# Check whether the computed 'muRsh' [N x D x K]\n",
    "V = np.zeros(shape=[N,D,K])\n",
    "for nIdx in range(N): # For all batch\n",
    "    cX = Xval[nIdx:nIdx+1,:] # [1 x Q]\n",
    "    cW = WlistConcatTrVar[nIdx,:,:,:].squeeze() # [D x K x Q]\n",
    "    for jIdx in range(K): # For each mixture\n",
    "        cWj = cW[:,jIdx,:].squeeze() # [D x Q] \n",
    "        cWjT = cWj.T # [Q x D] - Input to output mapping\n",
    "        cVj = np.matmul(cX,cWjT) # [1 x Q] x [Q x D] => [1 x D]\n",
    "        V[nIdx,:,jIdx] = cVj # [1 x D]\n",
    "# Check error\n",
    "err = np.linalg.norm(muRshVal-V)\n",
    "print ('err: %.3e'%(err))"
   ]
  },
  {
   "cell_type": "code",
   "execution_count": null,
   "metadata": {},
   "outputs": [],
   "source": []
  }
 ],
 "metadata": {
  "kernelspec": {
   "display_name": "Python 2",
   "language": "python",
   "name": "python2"
  },
  "language_info": {
   "codemirror_mode": {
    "name": "ipython",
    "version": 2
   },
   "file_extension": ".py",
   "mimetype": "text/x-python",
   "name": "python",
   "nbconvert_exporter": "python",
   "pygments_lexer": "ipython2",
   "version": "2.7.12"
  }
 },
 "nbformat": 4,
 "nbformat_minor": 2
}
