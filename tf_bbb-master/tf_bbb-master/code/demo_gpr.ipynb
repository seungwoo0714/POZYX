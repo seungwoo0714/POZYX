{
 "cells": [
  {
   "cell_type": "markdown",
   "metadata": {},
   "source": [
    "# Demo on GPR"
   ]
  },
  {
   "cell_type": "code",
   "execution_count": 3,
   "metadata": {},
   "outputs": [
    {
     "name": "stdout",
     "output_type": "stream",
     "text": [
      "Collecting tensorflow\n",
      "  Downloading tensorflow-2.3.1-cp37-cp37m-win_amd64.whl (342.5 MB)\n",
      "Collecting google-pasta>=0.1.8\n",
      "  Downloading google_pasta-0.2.0-py3-none-any.whl (57 kB)\n",
      "Requirement already satisfied: wheel>=0.26 in c:\\users\\seungwoo\\anaconda3\\lib\\site-packages (from tensorflow) (0.34.2)\n",
      "Collecting keras-preprocessing<1.2,>=1.1.1\n",
      "  Downloading Keras_Preprocessing-1.1.2-py2.py3-none-any.whl (42 kB)\n",
      "Collecting termcolor>=1.1.0\n",
      "  Downloading termcolor-1.1.0.tar.gz (3.9 kB)\n",
      "Collecting protobuf>=3.9.2\n",
      "  Downloading protobuf-3.13.0-cp37-cp37m-win_amd64.whl (1.0 MB)\n",
      "Requirement already satisfied: numpy<1.19.0,>=1.16.0 in c:\\users\\seungwoo\\anaconda3\\lib\\site-packages (from tensorflow) (1.18.1)\n",
      "Requirement already satisfied: h5py<2.11.0,>=2.10.0 in c:\\users\\seungwoo\\anaconda3\\lib\\site-packages (from tensorflow) (2.10.0)\n",
      "Collecting tensorboard<3,>=2.3.0\n",
      "  Downloading tensorboard-2.3.0-py3-none-any.whl (6.8 MB)\n",
      "Requirement already satisfied: six>=1.12.0 in c:\\users\\seungwoo\\anaconda3\\lib\\site-packages (from tensorflow) (1.14.0)\n",
      "Collecting tensorflow-estimator<2.4.0,>=2.3.0\n",
      "  Downloading tensorflow_estimator-2.3.0-py2.py3-none-any.whl (459 kB)\n",
      "Collecting grpcio>=1.8.6\n",
      "  Downloading grpcio-1.33.1-cp37-cp37m-win_amd64.whl (2.5 MB)\n",
      "Requirement already satisfied: wrapt>=1.11.1 in c:\\users\\seungwoo\\anaconda3\\lib\\site-packages (from tensorflow) (1.11.2)\n",
      "Collecting gast==0.3.3\n",
      "  Downloading gast-0.3.3-py2.py3-none-any.whl (9.7 kB)\n",
      "Collecting absl-py>=0.7.0\n",
      "  Downloading absl_py-0.10.0-py3-none-any.whl (127 kB)\n",
      "Collecting astunparse==1.6.3\n",
      "  Downloading astunparse-1.6.3-py2.py3-none-any.whl (12 kB)\n",
      "Collecting opt-einsum>=2.3.2\n",
      "  Downloading opt_einsum-3.3.0-py3-none-any.whl (65 kB)\n",
      "Requirement already satisfied: setuptools in c:\\users\\seungwoo\\anaconda3\\lib\\site-packages (from protobuf>=3.9.2->tensorflow) (45.2.0.post20200210)\n",
      "Requirement already satisfied: requests<3,>=2.21.0 in c:\\users\\seungwoo\\anaconda3\\lib\\site-packages (from tensorboard<3,>=2.3.0->tensorflow) (2.22.0)\n",
      "Collecting google-auth-oauthlib<0.5,>=0.4.1\n",
      "  Downloading google_auth_oauthlib-0.4.1-py2.py3-none-any.whl (18 kB)\n",
      "Collecting google-auth<2,>=1.6.3\n",
      "  Downloading google_auth-1.22.1-py2.py3-none-any.whl (114 kB)\n",
      "Collecting tensorboard-plugin-wit>=1.6.0\n",
      "  Downloading tensorboard_plugin_wit-1.7.0-py3-none-any.whl (779 kB)\n",
      "Requirement already satisfied: werkzeug>=0.11.15 in c:\\users\\seungwoo\\anaconda3\\lib\\site-packages (from tensorboard<3,>=2.3.0->tensorflow) (1.0.0)\n",
      "Collecting markdown>=2.6.8\n",
      "  Downloading Markdown-3.3.3-py3-none-any.whl (96 kB)\n",
      "Requirement already satisfied: idna<2.9,>=2.5 in c:\\users\\seungwoo\\anaconda3\\lib\\site-packages (from requests<3,>=2.21.0->tensorboard<3,>=2.3.0->tensorflow) (2.8)\n",
      "Requirement already satisfied: urllib3!=1.25.0,!=1.25.1,<1.26,>=1.21.1 in c:\\users\\seungwoo\\anaconda3\\lib\\site-packages (from requests<3,>=2.21.0->tensorboard<3,>=2.3.0->tensorflow) (1.25.8)\n",
      "Requirement already satisfied: certifi>=2017.4.17 in c:\\users\\seungwoo\\anaconda3\\lib\\site-packages (from requests<3,>=2.21.0->tensorboard<3,>=2.3.0->tensorflow) (2019.11.28)\n",
      "Requirement already satisfied: chardet<3.1.0,>=3.0.2 in c:\\users\\seungwoo\\anaconda3\\lib\\site-packages (from requests<3,>=2.21.0->tensorboard<3,>=2.3.0->tensorflow) (3.0.4)\n",
      "Collecting requests-oauthlib>=0.7.0\n",
      "  Downloading requests_oauthlib-1.3.0-py2.py3-none-any.whl (23 kB)\n",
      "Collecting rsa<5,>=3.1.4; python_version >= \"3.5\"\n",
      "  Downloading rsa-4.6-py3-none-any.whl (47 kB)\n",
      "Collecting cachetools<5.0,>=2.0.0\n",
      "  Downloading cachetools-4.1.1-py3-none-any.whl (10 kB)\n",
      "Collecting pyasn1-modules>=0.2.1\n",
      "  Downloading pyasn1_modules-0.2.8-py2.py3-none-any.whl (155 kB)\n",
      "Requirement already satisfied: importlib-metadata; python_version < \"3.8\" in c:\\users\\seungwoo\\anaconda3\\lib\\site-packages (from markdown>=2.6.8->tensorboard<3,>=2.3.0->tensorflow) (1.5.0)\n",
      "Collecting oauthlib>=3.0.0\n",
      "  Downloading oauthlib-3.1.0-py2.py3-none-any.whl (147 kB)\n",
      "Collecting pyasn1>=0.1.3\n",
      "  Downloading pyasn1-0.4.8-py2.py3-none-any.whl (77 kB)\n",
      "Requirement already satisfied: zipp>=0.5 in c:\\users\\seungwoo\\anaconda3\\lib\\site-packages (from importlib-metadata; python_version < \"3.8\"->markdown>=2.6.8->tensorboard<3,>=2.3.0->tensorflow) (2.2.0)\n",
      "Building wheels for collected packages: termcolor\n",
      "  Building wheel for termcolor (setup.py): started\n",
      "  Building wheel for termcolor (setup.py): finished with status 'done'\n",
      "  Created wheel for termcolor: filename=termcolor-1.1.0-py3-none-any.whl size=4835 sha256=f42f23bbcd38cbcdf83e4903859dac90ce0af47262bef73b938ca888ebe403f7\n",
      "  Stored in directory: c:\\users\\seungwoo\\appdata\\local\\pip\\cache\\wheels\\3f\\e3\\ec\\8a8336ff196023622fbcb36de0c5a5c218cbb24111d1d4c7f2\n",
      "Successfully built termcolor\n",
      "Installing collected packages: google-pasta, keras-preprocessing, termcolor, protobuf, oauthlib, requests-oauthlib, pyasn1, rsa, cachetools, pyasn1-modules, google-auth, google-auth-oauthlib, tensorboard-plugin-wit, grpcio, markdown, absl-py, tensorboard, tensorflow-estimator, gast, astunparse, opt-einsum, tensorflow\n",
      "Successfully installed absl-py-0.10.0 astunparse-1.6.3 cachetools-4.1.1 gast-0.3.3 google-auth-1.22.1 google-auth-oauthlib-0.4.1 google-pasta-0.2.0 grpcio-1.33.1 keras-preprocessing-1.1.2 markdown-3.3.3 oauthlib-3.1.0 opt-einsum-3.3.0 protobuf-3.13.0 pyasn1-0.4.8 pyasn1-modules-0.2.8 requests-oauthlib-1.3.0 rsa-4.6 tensorboard-2.3.0 tensorboard-plugin-wit-1.7.0 tensorflow-2.3.1 tensorflow-estimator-2.3.0 termcolor-1.1.0\n",
      "Note: you may need to restart the kernel to use updated packages.\n"
     ]
    }
   ],
   "source": [
    "pip install tensorflow"
   ]
  },
  {
   "cell_type": "code",
   "execution_count": 5,
   "metadata": {
    "ExecuteTime": {
     "end_time": "2018-04-11T05:04:44.677652Z",
     "start_time": "2018-04-11T05:04:42.681745Z"
    }
   },
   "outputs": [
    {
     "ename": "ImportError",
     "evalue": "cannot import name 'nzr' from 'demo_util' (demo_util.ipynb)",
     "output_type": "error",
     "traceback": [
      "\u001b[0;31m---------------------------------------------------------------------------\u001b[0m",
      "\u001b[0;31mImportError\u001b[0m                               Traceback (most recent call last)",
      "\u001b[0;32m<ipython-input-5-d0635ffdddd1>\u001b[0m in \u001b[0;36m<module>\u001b[0;34m\u001b[0m\n\u001b[1;32m      4\u001b[0m \u001b[0;32mimport\u001b[0m \u001b[0mmatplotlib\u001b[0m\u001b[0;34m.\u001b[0m\u001b[0mpyplot\u001b[0m \u001b[0;32mas\u001b[0m \u001b[0mplt\u001b[0m\u001b[0;34m\u001b[0m\u001b[0;34m\u001b[0m\u001b[0m\n\u001b[1;32m      5\u001b[0m \u001b[0;32mfrom\u001b[0m \u001b[0mscipy\u001b[0m\u001b[0;34m.\u001b[0m\u001b[0mspatial\u001b[0m\u001b[0;34m.\u001b[0m\u001b[0mdistance\u001b[0m \u001b[0;32mimport\u001b[0m \u001b[0mcdist\u001b[0m\u001b[0;34m\u001b[0m\u001b[0;34m\u001b[0m\u001b[0m\n\u001b[0;32m----> 6\u001b[0;31m \u001b[0;32mfrom\u001b[0m \u001b[0mdemo_util\u001b[0m \u001b[0;32mimport\u001b[0m \u001b[0mnzr\u001b[0m\u001b[0;34m,\u001b[0m\u001b[0mdata4regression\u001b[0m\u001b[0;34m\u001b[0m\u001b[0;34m\u001b[0m\u001b[0m\n\u001b[0m\u001b[1;32m      7\u001b[0m \u001b[0mget_ipython\u001b[0m\u001b[0;34m(\u001b[0m\u001b[0;34m)\u001b[0m\u001b[0;34m.\u001b[0m\u001b[0mrun_line_magic\u001b[0m\u001b[0;34m(\u001b[0m\u001b[0;34m'config'\u001b[0m\u001b[0;34m,\u001b[0m \u001b[0;34m\"InlineBackend.figure_format = 'retina'\"\u001b[0m\u001b[0;34m)\u001b[0m\u001b[0;34m\u001b[0m\u001b[0;34m\u001b[0m\u001b[0m\n\u001b[1;32m      8\u001b[0m \u001b[0mget_ipython\u001b[0m\u001b[0;34m(\u001b[0m\u001b[0;34m)\u001b[0m\u001b[0;34m.\u001b[0m\u001b[0mrun_line_magic\u001b[0m\u001b[0;34m(\u001b[0m\u001b[0;34m'matplotlib'\u001b[0m\u001b[0;34m,\u001b[0m \u001b[0;34m'inline  '\u001b[0m\u001b[0;34m)\u001b[0m\u001b[0;34m\u001b[0m\u001b[0;34m\u001b[0m\u001b[0m\n",
      "\u001b[0;31mImportError\u001b[0m: cannot import name 'nzr' from 'demo_util' (demo_util.ipynb)"
     ]
    }
   ],
   "source": [
    "import os,nbloader,warnings\n",
    "warnings.filterwarnings(\"ignore\")\n",
    "import numpy as np\n",
    "import matplotlib.pyplot as plt\n",
    "from scipy.spatial.distance import cdist\n",
    "from demo_util import nzr,data4regression\n",
    "%config InlineBackend.figure_format = 'retina'\n",
    "%matplotlib inline  \n",
    "if __name__ == \"__main__\":\n",
    "    print (\"Packages Loaded\")"
   ]
  },
  {
   "cell_type": "code",
   "execution_count": 3,
   "metadata": {
    "ExecuteTime": {
     "end_time": "2018-04-11T05:04:44.702338Z",
     "start_time": "2018-04-11T05:04:44.681412Z"
    }
   },
   "outputs": [
    {
     "name": "stdout",
     "output_type": "stream",
     "text": [
      "Kernel function defined.\n"
     ]
    }
   ],
   "source": [
    "def kernel_se(_X1,_X2,_hyp={'gain':1,'len':1,'s2w':1e-8},_use_s2w=False):\n",
    "    hyp_gain = float(_hyp['gain'])**2\n",
    "    hyp_len  = 1/float(_hyp['len'])\n",
    "    if len(_X1.shape)<=1: _X1=_X1.reshape((-1,1))\n",
    "    if len(_X2.shape)<=1: _X2=_X2.reshape((-1,1))\n",
    "    pairwise_dists = cdist(_X1,_X2,'euclidean')\n",
    "    K = hyp_gain*np.exp(-pairwise_dists ** 2/(hyp_len**2))\n",
    "    if _use_s2w:\n",
    "        K = K + _hyp['s2w']*np.eye(_X1.shape[0])\n",
    "    return K\n",
    "\n",
    "class gpr(object):\n",
    "    def __init__(self,_xTr,_yTr,_hyp):\n",
    "        self.xTr = _xTr\n",
    "        self.yTr = _yTr\n",
    "        self.hyp = _hyp\n",
    "        self.nzrX = nzr(self.xTr)\n",
    "        self.nzrY = nzr(self.yTr)\n",
    "        self.K_TrTr = kernel_se(self.xTr,self.xTr,_hyp=self.hyp,_use_s2w=True)\n",
    "        self.alpha = np.matmul(np.linalg.inv(self.K_TrTr),self.yTr)\n",
    "    def inference(self,_xTe):\n",
    "        self.xTe = _xTe\n",
    "        self.K_TeTr = kernel_se(self.xTe,self.xTr,_hyp=self.hyp)\n",
    "        self.K_TeTe = kernel_se(self.xTe,self.xTe,_hyp=self.hyp)\n",
    "        self.yTe = np.matmul(self.K_TeTr,self.alpha)\n",
    "        _varTe = self.K_TeTe - np.matmul(np.matmul(self.K_TeTr,\n",
    "                        np.linalg.inv(self.K_TrTr)),self.K_TeTr.T)\n",
    "        _varTe = np.diag(_varTe).reshape((-1,1))\n",
    "        self.varTe = np.sqrt(_varTe)\n",
    "        \n",
    "if __name__ == \"__main__\":\n",
    "    print (\"Kernel function defined.\")"
   ]
  },
  {
   "cell_type": "markdown",
   "metadata": {},
   "source": [
    "### Run GPR"
   ]
  },
  {
   "cell_type": "code",
   "execution_count": 4,
   "metadata": {
    "ExecuteTime": {
     "end_time": "2018-04-11T05:04:51.797500Z",
     "start_time": "2018-04-11T05:04:51.072298Z"
    }
   },
   "outputs": [
    {
     "ename": "NameError",
     "evalue": "name 'data4regression' is not defined",
     "output_type": "error",
     "traceback": [
      "\u001b[0;31m---------------------------------------------------------------------------\u001b[0m",
      "\u001b[0;31mNameError\u001b[0m                                 Traceback (most recent call last)",
      "\u001b[0;32m<ipython-input-4-02d73e1171da>\u001b[0m in \u001b[0;36m<module>\u001b[0;34m\u001b[0m\n\u001b[1;32m      3\u001b[0m     \u001b[0;31m# Training Data\u001b[0m\u001b[0;34m\u001b[0m\u001b[0;34m\u001b[0m\u001b[0;34m\u001b[0m\u001b[0m\n\u001b[1;32m      4\u001b[0m     \u001b[0mxmin\u001b[0m\u001b[0;34m,\u001b[0m\u001b[0mxmax\u001b[0m \u001b[0;34m=\u001b[0m \u001b[0;34m-\u001b[0m\u001b[0;36m3\u001b[0m\u001b[0;34m,\u001b[0m\u001b[0;34m+\u001b[0m\u001b[0;36m3\u001b[0m\u001b[0;34m\u001b[0m\u001b[0;34m\u001b[0m\u001b[0m\n\u001b[0;32m----> 5\u001b[0;31m     \u001b[0mxdata\u001b[0m\u001b[0;34m,\u001b[0m\u001b[0mydata\u001b[0m\u001b[0;34m,\u001b[0m\u001b[0myref\u001b[0m \u001b[0;34m=\u001b[0m \u001b[0mdata4regression\u001b[0m\u001b[0;34m(\u001b[0m\u001b[0m_n\u001b[0m\u001b[0;34m=\u001b[0m\u001b[0;36m1000\u001b[0m\u001b[0;34m,\u001b[0m\u001b[0m_xmin\u001b[0m\u001b[0;34m=\u001b[0m\u001b[0mxmin\u001b[0m\u001b[0;34m,\u001b[0m\u001b[0m_xmax\u001b[0m\u001b[0;34m=\u001b[0m\u001b[0;34m+\u001b[0m\u001b[0mxmax\u001b[0m\u001b[0;34m,\u001b[0m\u001b[0m_outlierRate\u001b[0m\u001b[0;34m=\u001b[0m\u001b[0;36m0.1\u001b[0m\u001b[0;34m)\u001b[0m\u001b[0;34m\u001b[0m\u001b[0;34m\u001b[0m\u001b[0m\n\u001b[0m\u001b[1;32m      6\u001b[0m     \u001b[0mnzrX\u001b[0m \u001b[0;34m=\u001b[0m \u001b[0mnzr\u001b[0m\u001b[0;34m(\u001b[0m\u001b[0mxdata\u001b[0m\u001b[0;34m)\u001b[0m\u001b[0;34m;\u001b[0m \u001b[0mxdata\u001b[0m \u001b[0;34m=\u001b[0m \u001b[0mnzrX\u001b[0m\u001b[0;34m.\u001b[0m\u001b[0mget_nzdval\u001b[0m\u001b[0;34m(\u001b[0m\u001b[0mxdata\u001b[0m\u001b[0;34m)\u001b[0m\u001b[0;34m;\u001b[0m\u001b[0;34m\u001b[0m\u001b[0;34m\u001b[0m\u001b[0m\n\u001b[1;32m      7\u001b[0m     \u001b[0mydata\u001b[0m\u001b[0;34m,\u001b[0m\u001b[0myref\u001b[0m \u001b[0;34m=\u001b[0m \u001b[0mydata\u001b[0m\u001b[0;34m[\u001b[0m\u001b[0;34m:\u001b[0m\u001b[0;34m,\u001b[0m\u001b[0;36m0\u001b[0m\u001b[0;34m:\u001b[0m\u001b[0;36m1\u001b[0m\u001b[0;34m]\u001b[0m\u001b[0;34m,\u001b[0m\u001b[0myref\u001b[0m\u001b[0;34m[\u001b[0m\u001b[0;34m:\u001b[0m\u001b[0;34m,\u001b[0m\u001b[0;36m0\u001b[0m\u001b[0;34m:\u001b[0m\u001b[0;36m1\u001b[0m\u001b[0;34m]\u001b[0m \u001b[0;31m# Use first dimension only\u001b[0m\u001b[0;34m\u001b[0m\u001b[0;34m\u001b[0m\u001b[0m\n",
      "\u001b[0;31mNameError\u001b[0m: name 'data4regression' is not defined"
     ]
    }
   ],
   "source": [
    "if __name__ == \"__main__\":\n",
    "    # Training data\n",
    "    # Training Data\n",
    "    xmin,xmax = -3,+3\n",
    "    xdata,ydata,yref = data4regression(_n=1000,_xmin=xmin,_xmax=+xmax,_outlierRate=0.1)\n",
    "    nzrX = nzr(xdata); xdata = nzrX.get_nzdval(xdata); \n",
    "    ydata,yref = ydata[:,0:1],yref[:,0:1] # Use first dimension only\n",
    "    nzrY = nzr(ydata); ydata = nzrY.get_nzdval(ydata); yref = nzrY.get_nzdval(yref)\n",
    "    # Plot training data\n",
    "    plt.figure(figsize=(8,4)),plt.axis([np.min(xdata),np.max(xdata),np.min(ydata),np.max(ydata)])\n",
    "    plt.plot(xdata,yref,'r.'); plt.plot(xdata,ydata,'k.')\n",
    "    plt.title('Training Data for a Regression Task',fontsize=16); plt.show()\n",
    "    \n",
    "    # Do inference\n",
    "    hyp={'gain':5,'len':1./1.,'s2w':1e-2}\n",
    "    G = gpr(_xTr=xdata,_yTr=ydata,_hyp=hyp)\n",
    "    nTe = 100\n",
    "    xTe = np.array([np.linspace(xmin,xmax,nTe)]).T\n",
    "    xTe = nzrX.get_nzdval(xTe)\n",
    "    G.inference(_xTe=xTe)\n",
    "\n",
    "    # Plot kernel function\n",
    "    plt.figure(figsize=(8,4))\n",
    "    a = np.linspace(-5,5,nTe).reshape((-1,1))\n",
    "    b = kernel_se(np.zeros(1),a,_hyp=hyp).reshape((-1,1))\n",
    "    plt.plot(a,b); plt.xlabel(\"|t-t'|\",fontsize=15)\n",
    "    plt.title(\"Kernel function k(t,t')\",fontsize=15)\n",
    "    \n",
    "    # Plot GPR results\n",
    "    plt.figure(figsize=(8,4)),plt.axis([np.min(xdata),np.max(xdata),np.min(ydata),np.max(ydata)])\n",
    "    plt.fill_between(G.xTe.squeeze(),(G.yTe-2.0*G.varTe).squeeze(),(G.yTe+2.0*G.varTe).squeeze(),\n",
    "                facecolor='g', interpolate=True, alpha=0.1)\n",
    "    plt.plot(xdata,yref,'r.'); \n",
    "    plt.plot(G.xTr[:,0],G.yTr[:,0],'k.',label='Original data')\n",
    "    plt.plot(G.xTe,G.yTe,'bo');\n",
    "    plt.xlabel('Input',fontsize=15);plt.ylabel('Output',fontsize=15)\n",
    "    plt.title('Gaussian process regression',fontsize=15)"
   ]
  },
  {
   "cell_type": "code",
   "execution_count": null,
   "metadata": {},
   "outputs": [],
   "source": []
  }
 ],
 "metadata": {
  "kernelspec": {
   "display_name": "Python 3",
   "language": "python",
   "name": "python3"
  },
  "language_info": {
   "codemirror_mode": {
    "name": "ipython",
    "version": 3
   },
   "file_extension": ".py",
   "mimetype": "text/x-python",
   "name": "python",
   "nbconvert_exporter": "python",
   "pygments_lexer": "ipython3",
   "version": "3.8.3"
  }
 },
 "nbformat": 4,
 "nbformat_minor": 2
}
