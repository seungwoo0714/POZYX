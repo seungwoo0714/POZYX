{
 "cells": [
  {
   "cell_type": "code",
   "execution_count": 5,
   "metadata": {
    "scrolled": true
   },
   "outputs": [
    {
     "name": "stdout",
     "output_type": "stream",
     "text": [
      "2162\n"
     ]
    },
    {
     "ename": "NameError",
     "evalue": "name 'Buffer' is not defined",
     "output_type": "error",
     "traceback": [
      "\u001b[0;31m---------------------------------------------------------------------------\u001b[0m",
      "\u001b[0;31mNameError\u001b[0m                                 Traceback (most recent call last)",
      "\u001b[0;32m<ipython-input-5-58caf0253a05>\u001b[0m in \u001b[0;36m<module>\u001b[0;34m\u001b[0m\n\u001b[1;32m     83\u001b[0m         \u001b[0mser\u001b[0m\u001b[0;34m.\u001b[0m\u001b[0mflushOutput\u001b[0m\u001b[0;34m(\u001b[0m\u001b[0;34m)\u001b[0m\u001b[0;34m\u001b[0m\u001b[0;34m\u001b[0m\u001b[0m\n\u001b[1;32m     84\u001b[0m         \u001b[0mser\u001b[0m\u001b[0;34m.\u001b[0m\u001b[0mnonblocking\u001b[0m\u001b[0;34m(\u001b[0m\u001b[0;34m)\u001b[0m\u001b[0;34m\u001b[0m\u001b[0;34m\u001b[0m\u001b[0m\n\u001b[0;32m---> 85\u001b[0;31m         \u001b[0mcir_buffer\u001b[0m \u001b[0;34m=\u001b[0m \u001b[0mBuffer\u001b[0m\u001b[0;34m(\u001b[0m\u001b[0;34m[\u001b[0m\u001b[0;36m0\u001b[0m\u001b[0;34m]\u001b[0m \u001b[0;34m*\u001b[0m \u001b[0;36m98\u001b[0m \u001b[0;34m*\u001b[0m \u001b[0mlen\u001b[0m\u001b[0;34m(\u001b[0m\u001b[0mlist_offset\u001b[0m\u001b[0;34m)\u001b[0m\u001b[0;34m,\u001b[0m \u001b[0msize\u001b[0m\u001b[0;34m=\u001b[0m\u001b[0;36m2\u001b[0m\u001b[0;34m,\u001b[0m \u001b[0msigned\u001b[0m\u001b[0;34m=\u001b[0m\u001b[0;36m1\u001b[0m\u001b[0;34m)\u001b[0m\u001b[0;34m\u001b[0m\u001b[0;34m\u001b[0m\u001b[0m\n\u001b[0m\u001b[1;32m     86\u001b[0m         \u001b[0mstatus_cir\u001b[0m \u001b[0;34m=\u001b[0m \u001b[0mp\u001b[0m\u001b[0;34m.\u001b[0m\u001b[0mgetDeviceCir\u001b[0m\u001b[0;34m(\u001b[0m\u001b[0mlist\u001b[0m\u001b[0;34m(\u001b[0m\u001b[0mlist_offset\u001b[0m\u001b[0;34m)\u001b[0m\u001b[0;34m,\u001b[0m \u001b[0mdata_length\u001b[0m\u001b[0;34m,\u001b[0m \u001b[0mcir_buffer\u001b[0m\u001b[0;34m,\u001b[0m \u001b[0mremote_id\u001b[0m\u001b[0;34m)\u001b[0m\u001b[0;34m\u001b[0m\u001b[0;34m\u001b[0m\u001b[0m\n\u001b[1;32m     87\u001b[0m         \u001b[0;32mif\u001b[0m \u001b[0mstatus_cir\u001b[0m\u001b[0;34m:\u001b[0m\u001b[0;34m\u001b[0m\u001b[0;34m\u001b[0m\u001b[0m\n",
      "\u001b[0;31mNameError\u001b[0m: name 'Buffer' is not defined"
     ]
    }
   ],
   "source": [
    "# Ranging #\n",
    "from pypozyx import *\n",
    "import numpy as np\n",
    "from pypozyx.definitions.registers import *\n",
    "import sys\n",
    "import time\n",
    "import serial \n",
    "from openpyxl import Workbook\n",
    "import matplotlib.pyplot as plt\n",
    "                \n",
    "write_wb = Workbook()\n",
    "write_ws = write_wb.active\n",
    "\n",
    "def cal(cira,th):\n",
    "    idx = 0\n",
    "    cir_cal = 0\n",
    "    l = len(cira)\n",
    "    mag = abs(cira[:-36])\n",
    "    for i in range(1,993):\n",
    "        if(mag[i]>th):\n",
    "            if(mag[i]>mag[i-1] and mag[i]>mag[i+1]):\n",
    "                idx = i\n",
    "                break\n",
    "    tmp = mag[idx]-500\n",
    "    mag_idx = 0\n",
    "    for i in range(idx+1,993):\n",
    "        if(mag[i] > tmp and mag[i] > th):\n",
    "            mag_idx = i\n",
    "            tmp = mag[i]\n",
    "    tmp_idx = mag_idx - idx\n",
    "    if (mag_idx - idx < 40):\n",
    "         tmp_idx = 0\n",
    "    cir_cal= tmp_idx*64*3*pow(10,8)/(499.2*pow(10,6))\n",
    "    print(mag_idx-idx)\n",
    "    return cir_cal\n",
    "\n",
    "def cal2(cira):\n",
    "    l = len(cira)\n",
    "    phase = phase(cira[:-36])\n",
    "    tmp = 0\n",
    "    cnt = 0\n",
    "    for i in range(0,l):\n",
    "        if(mag[i]>th):\n",
    "            if(mag[i]>mag[i-1] and mag[i]>mag[i+1]):\n",
    "                idx = i\n",
    "                break\n",
    "    for i in range(idx+1,993):\n",
    "        if(mag[i] > tmp and mag[i] > th):\n",
    "            mag_idx = i\n",
    "            tmp = mag[i]\n",
    "    for i in range(idx+1, mag_idx):\n",
    "        if(phase[i] > phase[i-1] and phase[i] > phase[i+1]):\n",
    "            cnt = cnt + 1\n",
    "    delay = phase[mag_idx] - phase[idx] + cnt * 360\n",
    "    cir_cal = delay * (3.14/180) * 3*pow(10,8) * (1/(2*3.14*6.24*10^9))\n",
    "    return cir_cal\n",
    "\n",
    "i = 1    \n",
    "port = '/dev/cu.usbmodem328B345A30371'\n",
    "p = PozyxSerial(port)\n",
    "\n",
    "remote_id = 0x696a          # the network ID of the remote device\n",
    "remote = True               # whether to use the given remote device for ranging\n",
    "if not remote:\n",
    "    remote_id = None\n",
    "th = 1000\n",
    "while True:\n",
    "    ser = serial.Serial(port=port,baudrate=28800, timeout = 1)\n",
    "    #print ser\n",
    "\n",
    "    destination_id_1 = 0x6966      # network ID of the ranging destination\n",
    "    range_step_mm = 1000         # distance that separates the amount of LEDs lighting up.\n",
    "    device_range_1 = DeviceRange()\n",
    "    status_1 = p.doRanging(destination_id_1, device_range_1, remote_id)\n",
    "    zd_1= device_range_1[1]\n",
    "    print(device_range_1[1])\n",
    "    if status_1:\n",
    "        list_offset = range(0, 1015, 49)\n",
    "        data_length = 49\n",
    "        sys.stdout.flush()\n",
    "        ser.nonblocking()\n",
    "        ser.flushInput()  #flush input buffer, discarding all its contents\n",
    "        ser.flushOutput()\n",
    "        ser.nonblocking()\n",
    "        cir_buffer = Buffer([0] * 98 * len(list_offset), size=2, signed=1)\n",
    "        status_cir = p.getDeviceCir(list(list_offset), data_length, cir_buffer, remote_id)\n",
    "        if status_cir:\n",
    "            try:\n",
    "                #get real and imaginarypart of the cir buffer\n",
    "                real = np.array(cir_buffer.data[0::2])\n",
    "                imag = np.array(cir_buffer.data[1::2])\n",
    "                # create an image of the CIR\n",
    "                cira = real + 1j*imag\n",
    "                #print(device_range)\n",
    "                #mat[i][j] = dist\n",
    "                #print(dist)\n",
    "                #That plots the CIR contains in the buffer.\n",
    "                #It still requires post-procesing to\n",
    "                #re-align delay and received power level.\n",
    "                #plt.plot((abs(cira[:-36])))\n",
    "                dist_1 = device_range_1[1]-cal(cira,th)\n",
    "                print(dist_1)\n",
    "                #plt.show()\n",
    "            except:\n",
    "                print('Buffer Error on 1')\n",
    "        else:\n",
    "            print('error in getting cir')\n",
    "    else:\n",
    "        print('Ranging failed on 1')\n",
    "        zd_1= device_range_1[1]\n",
    "    sys.stdout.flush()\n",
    "    ser.flushInput()  #flush input buffer, discarding all its contents\n",
    "    ser.flushOutput()\n",
    "    destination_id_2 = 0x675a      # network ID of the ranging destination\n",
    "    range_step_mm = 1000         # distance that separates the amount of LEDs lighting up.\n",
    "    device_range_2 = DeviceRange()\n",
    "    status_2 = p.doRanging(destination_id_2, device_range_2, remote_id)\n",
    "    zd_2= device_range_2[1]\n",
    "    print(device_range_2[1])\n",
    "    if status_2:\n",
    "        list_offset = range(0, 1015, 49)\n",
    "        data_length = 49\n",
    "        sys.stdout.flush()\n",
    "        ser.nonblocking()\n",
    "        ser.flushInput()  #flush input buffer, discarding all its contents\n",
    "        ser.flushOutput()\n",
    "        cir_buffer = Buffer([0] * 98 * len(list_offset), size=2, signed=1)\n",
    "        status_cir = p.getDeviceCir(list(list_offset), data_length, cir_buffer, remote_id)\n",
    "        if status_cir:\n",
    "            try:\n",
    "                import matplotlib.pyplot as plt\n",
    "                import numpy as np\n",
    "                #get real and imaginarypart of the cir buffer\n",
    "                real = np.array(cir_buffer.data[0::2])\n",
    "                imag = np.array(cir_buffer.data[1::2])\n",
    "                # create an image of the CIR\n",
    "                cira = real + 1j*imag\n",
    "                #print(device_range)\n",
    "                #mat[i][j] = dist\n",
    "                #print(dist)\n",
    "                #That plots the CIR contains in the buffer.\n",
    "                #It still requires post-procesing to\n",
    "                #re-align delay and received power level.\n",
    "                #plt.plot((abs(cira[:-36])))\n",
    "                dist_2 = device_range_2[1]-cal(cira,th)\n",
    "                print(dist_2)\n",
    "                #plt.show()\n",
    "            except:\n",
    "                print('Buffer error on 2')\n",
    "        else:\n",
    "            print('error in getting cir')\n",
    "    else:\n",
    "        print('Ranging failed on 2')\n",
    "        zd_2= device_range_2[1]\n",
    "\n",
    "    #destination_id_3 = 0x6a32      # network ID of the ranging destination\n",
    "    destination_id_3 = 0x6758\n",
    "    range_step_mm = 1000         # distance that separates the amount of LEDs lighting up.\n",
    "    device_range_3 = DeviceRange()\n",
    "    status_3 = p.doRanging(destination_id_3, device_range_3, remote_id)\n",
    "    zd_3= device_range_3[1]\n",
    "    print(device_range_3[1])\n",
    "    if status_3:\n",
    "        list_offset = range(0, 1015, 49)\n",
    "        data_length = 49\n",
    "        sys.stdout.flush()\n",
    "        ser.nonblocking()\n",
    "        ser.flushInput()  #flush input buffer, discarding all its contents\n",
    "        ser.flushOutput()\n",
    "        cir_buffer = Buffer([0] * 98 * len(list_offset), size=2, signed=1)\n",
    "        status_cir = p.getDeviceCir(list(list_offset), data_length, cir_buffer, remote_id)\n",
    "        if status_cir:\n",
    "            try:\n",
    "                import matplotlib.pyplot as plt\n",
    "                import numpy as np\n",
    "                    #get real and imaginarypart of the cir buffer\n",
    "                real = np.array(cir_buffer.data[0::2])\n",
    "                imag = np.array(cir_buffer.data[1::2])\n",
    "                    # create an image of the CIR\n",
    "                cira = real + 1j*imag\n",
    "                #print(device_range)\n",
    "                #mat[i][j] = dist\n",
    "                #print(dist)\n",
    "                #That plots the CIR contains in the buffer.\n",
    "                #It still requires post-procesing to\n",
    "                #re-align delay and received power level.\n",
    "                #plt.plot((abs(cira[:-36])))\n",
    "                dist_3 = device_range_3[1]-cal(cira,th)\n",
    "                print(dist_3)\n",
    "                #plt.show()\n",
    "            except:\n",
    "                print('Buffer Error on 3')\n",
    "        else:\n",
    "            print('error in getting cir')\n",
    "    else:\n",
    "        print('Ranging failed on 3')\n",
    "        zd_3= device_range_3[1]\n",
    "\n",
    "    ser.flushInput()  #flush input buffer, discarding all its contents\n",
    "    ser.flushOutput()\n",
    "    destination_id_4 = 0x6932      # network ID of the ranging destination\n",
    "    range_step_mm = 1000         # distance that separates the amount of LEDs lighting up.\n",
    "    device_range_4 = DeviceRange()\n",
    "    status_4 = p.doRanging(destination_id_4, device_range_4, remote_id)\n",
    "    zd_4= device_range_4[1]\n",
    "    print(device_range_4[1])\n",
    "    if status_4:\n",
    "        list_offset = range(0, 1015, 49)\n",
    "        data_length = 49\n",
    "        sys.stdout.flush()\n",
    "        ser.nonblocking()\n",
    "        ser.flushInput()  #flush input buffer, discarding all its contents\n",
    "        ser.flushOutput()\n",
    "        cir_buffer = Buffer([0] * 98 * len(list_offset), size=2, signed=1)\n",
    "        status_cir = p.getDeviceCir(list(list_offset), data_length, cir_buffer, remote_id)\n",
    "        if status_cir:\n",
    "            try:\n",
    "                import matplotlib.pyplot as plt\n",
    "                import numpy as np\n",
    "                #get real and imaginarypart of the cir buffer\n",
    "                real = np.array(cir_buffer.data[0::2])\n",
    "                imag = np.array(cir_buffer.data[1::2])\n",
    "                # create an image of the CIR\n",
    "                cira = real + 1j*imag\n",
    "                #print(device_range)\n",
    "                #mat[i][j] = dist\n",
    "                #print(dist)\n",
    "                #That plots the CIR contains in the buffer.\n",
    "                #It still requires post-procesing to\n",
    "                #re-align delay and received power level.\n",
    "                #plt.plot((abs(cira[:-36])))\n",
    "                dist_4 = device_range_4[1]-cal(cira,th)\n",
    "                print(dist_4)\n",
    "                #plt.show()\n",
    "            except:\n",
    "                print('Buffer Error on 4')\n",
    "        else:\n",
    "            print('error in getting cir')\n",
    "    else:\n",
    "        print('Ranging failed on 4')\n",
    "        zd_4= device_range_4[1]\n",
    "\n",
    "    # Multilateration Algorithm #\n",
    "    import numpy as np\n",
    "\n",
    "    def tri(zd, H):\n",
    "        zd = zd.T\n",
    "        H=H-H[0]\n",
    "        tmp = zd[0]\n",
    "        tmp = tmp * tmp\n",
    "        zd = np.delete(zd,(0), axis=0)\n",
    "        r1=np.multiply(zd,zd)\n",
    "        Ha=np.delete(H,(0), axis=0)\n",
    "        K=np.multiply(Ha,Ha)\n",
    "        K=K.sum(axis=1)\n",
    "        b= 0.5*(K-r1+tmp) \n",
    "        S_inv = np.linalg.inv(Ha.T*Ha)*Ha.T\n",
    "        x_hat = S_inv*b\n",
    "        return x_hat\n",
    "    H = np.array([[0,6.78],[6.42,7.20],[5.4,15.52],[0,15.26]])\n",
    "    H2 = np.matrix([[0,6.78],[6.42,7.20],[5.4,15.52],[0,15.26]])  \n",
    "    zd = np.matrix([dist_1,dist_2,dist_3,dist_4])\n",
    "    print(zd)\n",
    "    x_hat = tri(zd*10**(-3),H)\n",
    "    x_hat = x_hat.T+H[0]\n",
    "    print(x_hat)\n",
    "    zd_nlos = np.matrix([zd_1,zd_2,zd_3,zd_4])\n",
    "    print(zd_nlos)\n",
    "    x_nlos = tri(zd_nlos*10**(-3),H)\n",
    "    x_nlos = x_nlos.T+H[0]\n",
    "    print(x_nlos)\n",
    "    write_ws['A1'] = 'NLOS'\n",
    "    write_ws['C1'] = 'CIR'\n",
    "    write_ws.cell(i+1,1,x_nlos[(0,0)])\n",
    "    write_ws.cell(i+1,2,x_nlos[(0,1)])\n",
    "    write_ws.cell(i+1,3,x_hat[(0,0)])\n",
    "    write_ws.cell(i+1,4,x_hat[(0,1)])\n",
    "    write_wb.save('/Users/swbaek/Desktop/CIR_EX_21.xlsx')\n",
    "    i = i+1"
   ]
  },
  {
   "cell_type": "code",
   "execution_count": 309,
   "metadata": {},
   "outputs": [
    {
     "name": "stderr",
     "output_type": "stream",
     "text": [
      "<ipython-input-309-880064d56476>:1: RuntimeWarning: divide by zero encountered in log10\n",
      "  mag = 20*np.log10(abs(cira[:-36]))\n"
     ]
    },
    {
     "ename": "IndexError",
     "evalue": "index 993 is out of bounds for axis 0 with size 993",
     "output_type": "error",
     "traceback": [
      "\u001b[0;31m---------------------------------------------------------------------------\u001b[0m",
      "\u001b[0;31mIndexError\u001b[0m                                Traceback (most recent call last)",
      "\u001b[0;32m<ipython-input-309-880064d56476>\u001b[0m in \u001b[0;36m<module>\u001b[0;34m\u001b[0m\n\u001b[1;32m      1\u001b[0m \u001b[0mmag\u001b[0m \u001b[0;34m=\u001b[0m \u001b[0;36m20\u001b[0m\u001b[0;34m*\u001b[0m\u001b[0mnp\u001b[0m\u001b[0;34m.\u001b[0m\u001b[0mlog10\u001b[0m\u001b[0;34m(\u001b[0m\u001b[0mabs\u001b[0m\u001b[0;34m(\u001b[0m\u001b[0mcira\u001b[0m\u001b[0;34m[\u001b[0m\u001b[0;34m:\u001b[0m\u001b[0;34m-\u001b[0m\u001b[0;36m36\u001b[0m\u001b[0;34m]\u001b[0m\u001b[0;34m)\u001b[0m\u001b[0;34m)\u001b[0m\u001b[0;34m\u001b[0m\u001b[0;34m\u001b[0m\u001b[0m\n\u001b[1;32m      2\u001b[0m \u001b[0;32mfor\u001b[0m \u001b[0mi\u001b[0m \u001b[0;32min\u001b[0m \u001b[0mrange\u001b[0m\u001b[0;34m(\u001b[0m\u001b[0;36m1\u001b[0m\u001b[0;34m,\u001b[0m\u001b[0;36m1029\u001b[0m\u001b[0;34m+\u001b[0m\u001b[0;36m1\u001b[0m\u001b[0;34m)\u001b[0m\u001b[0;34m:\u001b[0m\u001b[0;34m\u001b[0m\u001b[0;34m\u001b[0m\u001b[0m\n\u001b[0;32m----> 3\u001b[0;31m     \u001b[0;32mif\u001b[0m\u001b[0;34m(\u001b[0m\u001b[0mmag\u001b[0m\u001b[0;34m[\u001b[0m\u001b[0mi\u001b[0m\u001b[0;34m]\u001b[0m\u001b[0;34m>\u001b[0m\u001b[0;36m60\u001b[0m\u001b[0;34m)\u001b[0m\u001b[0;34m:\u001b[0m\u001b[0;34m\u001b[0m\u001b[0;34m\u001b[0m\u001b[0m\n\u001b[0m\u001b[1;32m      4\u001b[0m         \u001b[0midx\u001b[0m \u001b[0;34m=\u001b[0m \u001b[0mi\u001b[0m\u001b[0;34m\u001b[0m\u001b[0;34m\u001b[0m\u001b[0m\n\u001b[1;32m      5\u001b[0m         \u001b[0;32mbreak\u001b[0m\u001b[0;34m\u001b[0m\u001b[0;34m\u001b[0m\u001b[0m\n",
      "\u001b[0;31mIndexError\u001b[0m: index 993 is out of bounds for axis 0 with size 993"
     ]
    }
   ],
   "source": [
    "mag = 20*np.log10(abs(cira[:-36]))\n",
    "for i in range(1,1029+1):\n",
    "    if(mag[i]>60):\n",
    "        idx = i\n",
    "        break\n",
    "print(idx)"
   ]
  },
  {
   "cell_type": "code",
   "execution_count": null,
   "metadata": {},
   "outputs": [],
   "source": [
    "mag_arr = 20*np.log10(abs(cira[:-36]))\n",
    "mag_idx=np.argmax(mag_arr)\n",
    "print(mag_idx)"
   ]
  },
  {
   "cell_type": "code",
   "execution_count": null,
   "metadata": {},
   "outputs": [],
   "source": [
    "64*3*pow(10,8)/(499.2*pow(10,6))"
   ]
  },
  {
   "cell_type": "code",
   "execution_count": null,
   "metadata": {},
   "outputs": [],
   "source": [
    "(mag_idx-idx)*64*3*pow(10,8)/(499.2*pow(10,6))"
   ]
  },
  {
   "cell_type": "code",
   "execution_count": null,
   "metadata": {},
   "outputs": [],
   "source": [
    "mat = np.array(40,100)"
   ]
  },
  {
   "cell_type": "code",
   "execution_count": null,
   "metadata": {},
   "outputs": [],
   "source": [
    "print(mat)"
   ]
  },
  {
   "cell_type": "code",
   "execution_count": null,
   "metadata": {},
   "outputs": [],
   "source": [
    "mat[0][20]"
   ]
  },
  {
   "cell_type": "code",
   "execution_count": null,
   "metadata": {},
   "outputs": [],
   "source": [
    "pip install pypozyx"
   ]
  },
  {
   "cell_type": "code",
   "execution_count": null,
   "metadata": {},
   "outputs": [],
   "source": [
    "pip install pyserial"
   ]
  },
  {
   "cell_type": "code",
   "execution_count": null,
   "metadata": {},
   "outputs": [],
   "source": [
    "import serial.tools.list_ports\n",
    "list(serial.tools.list_ports.comports())"
   ]
  },
  {
   "cell_type": "code",
   "execution_count": 4,
   "metadata": {},
   "outputs": [
    {
     "name": "stdout",
     "output_type": "stream",
     "text": [
      "/dev/cu.Bluetooth-Incoming-Port - n/a\n",
      "/dev/cu.usbmodem3270345730371 - Pozyx Virtual ComPort in FS Mod\n"
     ]
    }
   ],
   "source": [
    "from pypozyx import *\n",
    "list_serial_ports()"
   ]
  },
  {
   "cell_type": "code",
   "execution_count": 37,
   "metadata": {},
   "outputs": [
    {
     "name": "stdout",
     "output_type": "stream",
     "text": [
      "0.001\n"
     ]
    }
   ],
   "source": [
    "print(10**(-3))"
   ]
  },
  {
   "cell_type": "code",
   "execution_count": 40,
   "metadata": {},
   "outputs": [
    {
     "name": "stdout",
     "output_type": "stream",
     "text": [
      "[[ 3.079 -3.068  1.907]]\n",
      "[[7.71026389 5.05076927]]\n"
     ]
    }
   ],
   "source": [
    "import numpy as np\n",
    "\n",
    "def SX(tdoa, H):\n",
    "    tdoa = tdoa.T\n",
    "    H=H-H[0]\n",
    "    Ha=np.delete(H,(0), axis=0)\n",
    "    K=np.multiply(Ha,Ha)\n",
    "    K=K.sum(axis=1)\n",
    "    r1=np.multiply(tdoa,tdoa)\n",
    "    d=K-r1\n",
    "    S_inv = np.linalg.inv(Ha.T*Ha)*Ha.T\n",
    "    a = 4-4*(tdoa.T*S_inv.T*S_inv*tdoa)\n",
    "    b = 4*tdoa.T*S_inv.T*S_inv*d\n",
    "    c = (-1)*(d.T*S_inv.T*S_inv*d)\n",
    "    r1 = (-b+np.sqrt(pow(b,2)-4*a*c))/(2*a)\n",
    "    x_hat = 0.5*S_inv*(d-2*r1[0,0]*tdoa)\n",
    "    return x_hat\n",
    "\n",
    "H = np.matrix([[7.54,0],[14.14,0],[7.54,7.21],[14.14,7.58]])\n",
    "\n",
    "zd1 =  device_range_2[1]\n",
    "zd2 =  device_range_3[1]\n",
    "zd3 =  device_range[1]\n",
    "zd4 =  device_range_4[1]\n",
    "\n",
    "tdoa_col_1 = (zd2-zd1)*(10**(-3))\n",
    "tdoa_col_2 = (zd3-zd1)*(10**(-3))\n",
    "tdoa_col_3 = (zd4-zd1)*(10**(-3))\n",
    "tdoa = np.matrix([tdoa_col_1,tdoa_col_2,tdoa_col_3])\n",
    "print(tdoa)\n",
    "\n",
    "x_hat = SX(tdoa,H)\n",
    "x_hat = x_hat.T + H[0]\n",
    "print(x_hat)"
   ]
  },
  {
   "cell_type": "code",
   "execution_count": 129,
   "metadata": {},
   "outputs": [
    {
     "name": "stdout",
     "output_type": "stream",
     "text": [
      "38.46153846153846\n"
     ]
    }
   ],
   "source": [
    "print(64*3*pow(10,8)/(499.2*pow(10,6)))"
   ]
  },
  {
   "cell_type": "code",
   "execution_count": 73,
   "metadata": {},
   "outputs": [
    {
     "name": "stdout",
     "output_type": "stream",
     "text": [
      "[[5345.53846154 4472.84615385 5130.23076923 4232.76923077]]\n",
      "[[11.06452965  4.25084282]]\n",
      "[[5384 4569 5361    0]]\n",
      "[[11.42025461  4.70793333]]\n"
     ]
    }
   ],
   "source": [
    "# Multilateration Algorithm #\n",
    "import numpy as np\n",
    "def tri(zd, H):\n",
    "    zd = zd.T\n",
    "    H=H-H[0]\n",
    "    tmp = zd[0]\n",
    "    tmp = tmp * tmp\n",
    "    zd = np.delete(zd,(0), axis=0)\n",
    "    r1=np.multiply(zd,zd)\n",
    "    Ha=np.delete(H,(0), axis=0)\n",
    "    K=np.multiply(Ha,Ha)\n",
    "    K=K.sum(axis=1)\n",
    "    b= 0.5*(K-r1+tmp) \n",
    "    S_inv = np.linalg.inv(Ha.T*Ha)*Ha.T\n",
    "    x_hat = S_inv*b\n",
    "    return x_hat\n",
    "\n",
    "H = np.matrix([[7.54,0],[7.54,7.21],[14.14,0],[14.14,7.58]])\n",
    "zd = np.matrix([dist_1,dist_2,dist_3,dist_4])\n",
    "print(zd)\n",
    "x_hat = tri(zd*10**(-3),H)\n",
    "x_hat = x_hat.T+H[0]\n",
    "print(x_hat)\n",
    "zd_nlos = np.matrix([zd_1,zd_2,zd_3,zd_4])\n",
    "print(zd_nlos)\n",
    "x_nlos = tri(zd_nlos*10**(-3),H)\n",
    "x_nlos = x_nlos.T+H[0]\n",
    "print(x_nlos)\n"
   ]
  },
  {
   "cell_type": "code",
   "execution_count": 68,
   "metadata": {},
   "outputs": [
    {
     "name": "stdout",
     "output_type": "stream",
     "text": [
      "[[7.54 0.  ]]\n"
     ]
    }
   ],
   "source": [
    "print(H[0])"
   ]
  },
  {
   "cell_type": "code",
   "execution_count": 158,
   "metadata": {},
   "outputs": [
    {
     "name": "stdout",
     "output_type": "stream",
     "text": [
      "9.992035714004238\n"
     ]
    }
   ],
   "source": [
    "print(x_nlos[0,0])"
   ]
  },
  {
   "cell_type": "code",
   "execution_count": null,
   "metadata": {},
   "outputs": [],
   "source": []
  }
 ],
 "metadata": {
  "kernelspec": {
   "display_name": "Python 3",
   "language": "python",
   "name": "python3"
  },
  "language_info": {
   "codemirror_mode": {
    "name": "ipython",
    "version": 3
   },
   "file_extension": ".py",
   "mimetype": "text/x-python",
   "name": "python",
   "nbconvert_exporter": "python",
   "pygments_lexer": "ipython3",
   "version": "3.8.3"
  }
 },
 "nbformat": 4,
 "nbformat_minor": 4
}
