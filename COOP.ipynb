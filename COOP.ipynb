{
 "cells": [
  {
   "cell_type": "code",
   "execution_count": 4,
   "metadata": {
    "scrolled": true
   },
   "outputs": [
    {
     "name": "stdout",
     "output_type": "stream",
     "text": [
      "[ 3.52127827 12.24337935]\n",
      "[ 7.48564057 10.4608805 ]\n",
      "[[ 5.51785733 12.46717493]]\n",
      "[[ 7.37081792 10.16945192]]\n"
     ]
    },
    {
     "ename": "NameError",
     "evalue": "name 'zd' is not defined",
     "output_type": "error",
     "traceback": [
      "\u001b[1;31m---------------------------------------------------------------------------\u001b[0m",
      "\u001b[1;31mNameError\u001b[0m                                 Traceback (most recent call last)",
      "\u001b[1;32m<ipython-input-4-25b810462c8e>\u001b[0m in \u001b[0;36m<module>\u001b[1;34m\u001b[0m\n\u001b[0;32m     55\u001b[0m     \u001b[0mprint\u001b[0m\u001b[1;33m(\u001b[0m\u001b[0mx1_gn\u001b[0m\u001b[1;33m)\u001b[0m\u001b[1;33m\u001b[0m\u001b[1;33m\u001b[0m\u001b[0m\n\u001b[0;32m     56\u001b[0m     \u001b[0mprint\u001b[0m\u001b[1;33m(\u001b[0m\u001b[0mx2_gn\u001b[0m\u001b[1;33m)\u001b[0m\u001b[1;33m\u001b[0m\u001b[1;33m\u001b[0m\u001b[0m\n\u001b[1;32m---> 57\u001b[1;33m     \u001b[0mzd\u001b[0m \u001b[1;33m=\u001b[0m \u001b[0mzd\u001b[0m\u001b[1;33m.\u001b[0m\u001b[0mT\u001b[0m\u001b[1;33m\u001b[0m\u001b[1;33m\u001b[0m\u001b[0m\n\u001b[0m\u001b[0;32m     58\u001b[0m     \u001b[0mH\u001b[0m\u001b[1;33m=\u001b[0m\u001b[0mH\u001b[0m\u001b[1;33m-\u001b[0m\u001b[0mH\u001b[0m\u001b[1;33m[\u001b[0m\u001b[1;36m0\u001b[0m\u001b[1;33m]\u001b[0m\u001b[1;33m\u001b[0m\u001b[1;33m\u001b[0m\u001b[0m\n\u001b[0;32m     59\u001b[0m     \u001b[0mtmp\u001b[0m \u001b[1;33m=\u001b[0m \u001b[0mzd\u001b[0m\u001b[1;33m[\u001b[0m\u001b[1;36m0\u001b[0m\u001b[1;33m]\u001b[0m\u001b[1;33m\u001b[0m\u001b[1;33m\u001b[0m\u001b[0m\n",
      "\u001b[1;31mNameError\u001b[0m: name 'zd' is not defined"
     ]
    }
   ],
   "source": [
    "import numpy as np\n",
    "import scipy as sp\n",
    "import seaborn as sns\n",
    "import random\n",
    "from matplotlib import pyplot as plt\n",
    "from scipy.spatial.distance import pdist, squareform\n",
    "\n",
    "def tri(zd, H):\n",
    "    zd = zd.T\n",
    "    H=H-H[0]\n",
    "    tmp = zd[0]\n",
    "    tmp = tmp * tmp\n",
    "    zd = np.delete(zd,(0), axis=0)\n",
    "    r1=np.multiply(zd,zd)\n",
    "    Ha=np.delete(H,(0), axis=0)\n",
    "    K=np.multiply(Ha,Ha)\n",
    "    K=K.sum(axis=1)\n",
    "    b= 0.5*(K-r1+tmp) \n",
    "    S_inv = np.linalg.inv(Ha.T*Ha)*Ha.T\n",
    "    x_hat = S_inv*b\n",
    "    return x_hat  \n",
    "\n",
    "def loc(x1):\n",
    "    H = np.array([[7.54,0],[7.54,7.21],[14.14,0],[14.14,7.58]])\n",
    "    H2 = np.matrix([[7.54,0],[7.54,7.21],[14.14,0],[14.14,7.58]])\n",
    "    d = x1-H\n",
    "    d = np.multiply(d,d)\n",
    "    d = np.sqrt(d.sum(axis=1))\n",
    "    zd = np.matrix([d[0],d[1],d[2],d[3]])\n",
    "    #zd = np.array([d[0],d[1],d[2],d[3]])\n",
    "    #print(zd)\n",
    "\n",
    "    d[0] = d[0] + np.random.normal(0,0.5,1)\n",
    "    d[1] = d[1] + np.random.normal(0,0.5,1)\n",
    "    d[2] = d[2] + np.random.normal(0,0.5,1)\n",
    "    d[3] = d[3] + np.random.normal(0,0.5,1)\n",
    "      \n",
    "    zd2 = np.matrix([d[0],d[1],d[2],d[3]])\n",
    "    zd3 = np.array([d[0],d[1],d[2],d[3]])\n",
    "    zd = np.matrix([d[0],d[1],d[2],d[3]])\n",
    "    x_hat = tri(zd,H2)\n",
    "    x_hat = x_hat.T+H[0]\n",
    "    return x_hat\n",
    "\n",
    "j = 0\n",
    "cdf = np.random.random(100)\n",
    "\n",
    "for j in range(0,100):\n",
    "    x1 = np.array([15*random.random(),15*random.random()])\n",
    "    x2 = np.array([15*random.random(),15*random.random()])\n",
    "    print(x1)\n",
    "    print(x2)\n",
    "    x1_gn = loc(x1)\n",
    "    x2_gn = loc(x2)\n",
    "    print(x1_gn)\n",
    "    print(x2_gn)\n",
    "    zd = zd.T\n",
    "    H=H-H[0]\n",
    "    tmp = zd[0]\n",
    "    tmp = tmp * tmp\n",
    "    zd = np.delete(zd,(0), axis=0)\n",
    "    r1=np.multiply(zd,zd)\n",
    "    Ha=np.delete(H,(0), axis=0)\n",
    "    K=np.multiply(Ha,Ha)\n",
    "    K=K.sum(axis=1)\n",
    "    b= 0.5*(K-r1+tmp) \n",
    "\n",
    "    y1 = x1_gn*Ha-b"
   ]
  },
  {
   "cell_type": "code",
   "execution_count": 38,
   "metadata": {},
   "outputs": [
    {
     "name": "stdout",
     "output_type": "stream",
     "text": [
      "[10.08225007  5.64266098]\n",
      "[[10.93874831  3.69787876]\n",
      " [ 8.4463567   1.47628399]\n",
      " [ 8.83135306  1.81945072]]\n"
     ]
    }
   ],
   "source": [
    "x = np.array([15*random.random(),15*random.random()])\n",
    "print(x)\n",
    "H = np.array([[7.54,0],[7.54,7.21],[14.14,0],[14.14,7.58]])\n",
    "H2 = np.matrix([[7.54,0],[7.54,7.21],[14.14,0],[14.14,7.58]])\n",
    "d = x-H\n",
    "d = np.multiply(d,d)\n",
    "d = np.sqrt(d.sum(axis=1))\n",
    "zd = np.matrix([2.79141785, 2.68082355, 7.54493688, 7.01732975])\n",
    "x_hat = tri(zd, H2)\n",
    "x_hat = x_hat.T+H[0]\n",
    "print(x_hat)"
   ]
  },
  {
   "cell_type": "code",
   "execution_count": 27,
   "metadata": {},
   "outputs": [
    {
     "ename": "ValueError",
     "evalue": "invalid number of arguments",
     "output_type": "error",
     "traceback": [
      "\u001b[0;31m---------------------------------------------------------------------------\u001b[0m",
      "\u001b[0;31mValueError\u001b[0m                                Traceback (most recent call last)",
      "\u001b[0;32m<ipython-input-27-34e3a7bd59a6>\u001b[0m in \u001b[0;36m<module>\u001b[0;34m\u001b[0m\n\u001b[0;32m----> 1\u001b[0;31m \u001b[0mprint\u001b[0m\u001b[0;34m(\u001b[0m\u001b[0msum\u001b[0m\u001b[0;34m(\u001b[0m\u001b[0mnp\u001b[0m\u001b[0;34m.\u001b[0m\u001b[0mpower\u001b[0m\u001b[0;34m(\u001b[0m\u001b[0;34m(\u001b[0m\u001b[0mx_hat\u001b[0m\u001b[0;34m-\u001b[0m\u001b[0mx\u001b[0m\u001b[0;34m)\u001b[0m\u001b[0;34m)\u001b[0m\u001b[0;34m)\u001b[0m\u001b[0;34m)\u001b[0m\u001b[0;34m\u001b[0m\u001b[0;34m\u001b[0m\u001b[0m\n\u001b[0m",
      "\u001b[0;31mValueError\u001b[0m: invalid number of arguments"
     ]
    }
   ],
   "source": [
    "print(sum(np.power((x_hat-x))))"
   ]
  },
  {
   "cell_type": "code",
   "execution_count": 47,
   "metadata": {},
   "outputs": [
    {
     "name": "stdout",
     "output_type": "stream",
     "text": [
      "1.0\n"
     ]
    }
   ],
   "source": [
    "cdf = np.ones((1,100))\n",
    "print(cdf.item(0))"
   ]
  },
  {
   "cell_type": "code",
   "execution_count": 61,
   "metadata": {},
   "outputs": [
    {
     "name": "stdout",
     "output_type": "stream",
     "text": [
      "<class 'numpy.ndarray'>\n"
     ]
    }
   ],
   "source": [
    "data = np.random.randn(10000)\n",
    "print(type(data))"
   ]
  },
  {
   "cell_type": "code",
   "execution_count": 4,
   "metadata": {},
   "outputs": [
    {
     "name": "stdout",
     "output_type": "stream",
     "text": [
      "Collecting emcee\n",
      "  Downloading emcee-3.0.2-py2.py3-none-any.whl (41 kB)\n",
      "\u001b[K     |████████████████████████████████| 41 kB 140 kB/s eta 0:00:011\n",
      "\u001b[?25hRequirement already satisfied: numpy in /Users/swbaek/opt/anaconda3/lib/python3.8/site-packages (from emcee) (1.18.5)\n",
      "Installing collected packages: emcee\n",
      "Successfully installed emcee-3.0.2\n",
      "Note: you may need to restart the kernel to use updated packages.\n"
     ]
    }
   ],
   "source": [
    "pip install emcee"
   ]
  },
  {
   "cell_type": "code",
   "execution_count": 5,
   "metadata": {},
   "outputs": [
    {
     "name": "stdout",
     "output_type": "stream",
     "text": [
      "10.908422322088718\n"
     ]
    }
   ],
   "source": [
    "print(x_hat.item(0))"
   ]
  },
  {
   "cell_type": "code",
   "execution_count": null,
   "metadata": {},
   "outputs": [],
   "source": []
  }
 ],
 "metadata": {
  "kernelspec": {
   "display_name": "Python 3",
   "language": "python",
   "name": "python3"
  },
  "language_info": {
   "codemirror_mode": {
    "name": "ipython",
    "version": 3
   },
   "file_extension": ".py",
   "mimetype": "text/x-python",
   "name": "python",
   "nbconvert_exporter": "python",
   "pygments_lexer": "ipython3",
   "version": "3.7.6"
  }
 },
 "nbformat": 4,
 "nbformat_minor": 4
}
