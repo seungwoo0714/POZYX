{
 "cells": [
  {
   "cell_type": "code",
   "execution_count": 16,
   "metadata": {},
   "outputs": [
    {
     "data": {
      "text/plain": [
       "array([0.5, 0.5])"
      ]
     },
     "execution_count": 16,
     "metadata": {},
     "output_type": "execute_result"
    }
   ],
   "source": [
    "import numpy  as np\n",
    "import igraph as ig\n",
    "import matplotlib.pyplot as plt\n",
    "%run ./2-ImplementationFactor.ipynb\n",
    "%run ./3-ImplementationPGM.ipynb\n",
    "plt.rc(\"text\", usetex=True)\n",
    "\n",
    "class belief_propagation():\n",
    "    def __init__(self, pgm):\n",
    "        if type(pgm) is not factor_graph:\n",
    "            raise Exception('PGM is not a factor graph')\n",
    "        if not (pgm.is_connected() and not pgm.is_loop()):\n",
    "            raise Exception('PGM is not a tree')\n",
    "        \n",
    "        self.__msg = {}\n",
    "        self.__pgm = pgm\n",
    "    \n",
    "    def belief(self, v_name):\n",
    "        incoming_messages = []\n",
    "        for f_name_neighbor in self.__pgm.get_graph().vs[self.__pgm.get_graph().neighbors(v_name)]['name']:\n",
    "            incoming_messages.append(self.get_factor2variable_msg(f_name_neighbor, v_name))\n",
    "        return self.__normalize_msg(joint_distribution(incoming_messages))\n",
    "    \n",
    "    # ----------------------- Variable to factor ------------\n",
    "    def get_variable2factor_msg(self, v_name, f_name):\n",
    "        key = (v_name, f_name)\n",
    "        if key not in self.__msg:\n",
    "            self.__msg[key] = self.__compute_variable2factor_msg(v_name, f_name)\n",
    "        return self.__msg[key]\n",
    "    \n",
    "    def __compute_variable2factor_msg(self, v_name, f_name):\n",
    "        incoming_messages = []\n",
    "        for f_name_neighbor in self.__pgm.get_graph().vs[self.__pgm.get_graph().neighbors(v_name)]['name']:\n",
    "            if f_name_neighbor != f_name:\n",
    "                incoming_messages.append(self.get_factor2variable_msg(f_name_neighbor, v_name))\n",
    "        \n",
    "        if not incoming_messages:\n",
    "            # if the variable does not have its own distribution\n",
    "            return factor([v_name], np.array([1.]*self.__pgm.get_graph().vs.find(name=v_name)['rank']))\n",
    "        else:\n",
    "            # Since all messages have the same dimension (1, order of v_name) the expression after\n",
    "            # ```return``` is equivalent to ```factor(v_name, np.prod(incoming_messages))```\n",
    "            return self.__normalize_msg(joint_distribution(incoming_messages))\n",
    "    \n",
    "    # ----------------------- Factor to variable ------------\n",
    "    def get_factor2variable_msg(self, f_name, v_name):\n",
    "        key = (f_name, v_name)\n",
    "        if key not in self.__msg:\n",
    "            self.__msg[key] = self.__compute_factor2variable_msg(f_name, v_name)\n",
    "        return self.__msg[key]\n",
    "    \n",
    "    def __compute_factor2variable_msg(self, f_name, v_name):\n",
    "        incoming_messages = [self.__pgm.get_graph().vs.find(f_name)['factor_']]\n",
    "        marginalization_variables = []\n",
    "        for v_name_neighbor in self.__pgm.get_graph().vs[self.__pgm.get_graph().neighbors(f_name)]['name']:\n",
    "            if v_name_neighbor != v_name:\n",
    "                incoming_messages.append(self.get_variable2factor_msg(v_name_neighbor, f_name))\n",
    "                marginalization_variables.append(v_name_neighbor)\n",
    "        return self.__normalize_msg(factor_marginalization(\n",
    "            joint_distribution(incoming_messages),\n",
    "            marginalization_variables\n",
    "        ))\n",
    "    \n",
    "    # ----------------------- Other -------------------------\n",
    "    def __normalize_msg(self, message):\n",
    "        return factor(message.get_variables(), message.get_distribution()/np.sum(message.get_distribution()))\n",
    "mrf = string2factor_graph('f1(a,b)f2(b,c)')\n",
    "f1 = factor(['a', 'b'],      np.array([[1,1],[1,1]]))\n",
    "f2 = factor(['b', 'c'],      np.array([[1,1],[1,1])\n",
    "f3 = factor(['c'],           np.array([1, 1, 1]))\n",
    "mrf.change_factor_distribution('f1', f1)\n",
    "mrf.change_factor_distribution('f2', f2)\n",
    "mrf.change_factor_distribution('f3', f3)\n",
    "bp = belief_propagation(mrf)\n",
    "bp.belief('b').get_distribution()"
   ]
  },
  {
   "cell_type": "code",
   "execution_count": null,
   "metadata": {},
   "outputs": [],
   "source": []
  },
  {
   "cell_type": "code",
   "execution_count": null,
   "metadata": {},
   "outputs": [],
   "source": []
  },
  {
   "cell_type": "code",
   "execution_count": null,
   "metadata": {},
   "outputs": [],
   "source": []
  },
  {
   "cell_type": "code",
   "execution_count": null,
   "metadata": {},
   "outputs": [],
   "source": []
  },
  {
   "cell_type": "code",
   "execution_count": null,
   "metadata": {},
   "outputs": [],
   "source": []
  }
 ],
 "metadata": {
  "kernelspec": {
   "display_name": "Python 3",
   "language": "python",
   "name": "python3"
  },
  "language_info": {
   "codemirror_mode": {
    "name": "ipython",
    "version": 3
   },
   "file_extension": ".py",
   "mimetype": "text/x-python",
   "name": "python",
   "nbconvert_exporter": "python",
   "pygments_lexer": "ipython3",
   "version": "3.7.6"
  }
 },
 "nbformat": 4,
 "nbformat_minor": 4
}
