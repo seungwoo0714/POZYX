{
 "cells": [
  {
   "cell_type": "code",
   "execution_count": 8,
   "metadata": {
    "scrolled": true
   },
   "outputs": [
    {
     "ename": "PozyxConnectionError",
     "evalue": "Couldn't connect to Pozyx, AttributeError: 'NoneType' object has no attribute 'description'",
     "output_type": "error",
     "traceback": [
      "\u001b[1;31m---------------------------------------------------------------------------\u001b[0m",
      "\u001b[1;31mAttributeError\u001b[0m                            Traceback (most recent call last)",
      "\u001b[1;32m~\\anaconda3\\lib\\site-packages\\pypozyx\\pozyx_serial.py\u001b[0m in \u001b[0;36mconnectToPozyx\u001b[1;34m(self, port, baudrate, timeout, write_timeout)\u001b[0m\n\u001b[0;32m    169\u001b[0m                 \u001b[1;32mif\u001b[0m \u001b[1;32mnot\u001b[0m \u001b[0mis_pozyx\u001b[0m\u001b[1;33m(\u001b[0m\u001b[0mport\u001b[0m\u001b[1;33m)\u001b[0m \u001b[1;32mand\u001b[0m \u001b[1;32mnot\u001b[0m \u001b[0mself\u001b[0m\u001b[1;33m.\u001b[0m\u001b[0msuppress_warnings\u001b[0m\u001b[1;33m:\u001b[0m\u001b[1;33m\u001b[0m\u001b[1;33m\u001b[0m\u001b[0m\n\u001b[1;32m--> 170\u001b[1;33m                     \u001b[0mwarn\u001b[0m\u001b[1;33m(\u001b[0m\u001b[1;34m\"The passed device is not a recognized Pozyx device, is %s\"\u001b[0m \u001b[1;33m%\u001b[0m \u001b[0mget_port_object\u001b[0m\u001b[1;33m(\u001b[0m\u001b[0mport\u001b[0m\u001b[1;33m)\u001b[0m\u001b[1;33m.\u001b[0m\u001b[0mdescription\u001b[0m\u001b[1;33m,\u001b[0m \u001b[0mstacklevel\u001b[0m\u001b[1;33m=\u001b[0m\u001b[1;36m2\u001b[0m\u001b[1;33m)\u001b[0m\u001b[1;33m\u001b[0m\u001b[1;33m\u001b[0m\u001b[0m\n\u001b[0m\u001b[0;32m    171\u001b[0m                 self.ser = Serial(port=port, baudrate=baudrate, timeout=timeout,\n",
      "\u001b[1;31mAttributeError\u001b[0m: 'NoneType' object has no attribute 'description'",
      "\nDuring handling of the above exception, another exception occurred:\n",
      "\u001b[1;31mPozyxConnectionError\u001b[0m                      Traceback (most recent call last)",
      "\u001b[1;32m<ipython-input-8-3a30fb97df82>\u001b[0m in \u001b[0;36m<module>\u001b[1;34m\u001b[0m\n\u001b[0;32m     29\u001b[0m \u001b[0mj\u001b[0m \u001b[1;33m=\u001b[0m \u001b[1;36m0\u001b[0m\u001b[1;33m\u001b[0m\u001b[1;33m\u001b[0m\u001b[0m\n\u001b[0;32m     30\u001b[0m \u001b[0mport\u001b[0m \u001b[1;33m=\u001b[0m \u001b[0mget_first_pozyx_serial_port\u001b[0m\u001b[1;33m(\u001b[0m\u001b[1;33m)\u001b[0m\u001b[1;31m#'/dev/cu.usbmodem3998326833361'\u001b[0m\u001b[1;33m\u001b[0m\u001b[1;33m\u001b[0m\u001b[0m\n\u001b[1;32m---> 31\u001b[1;33m \u001b[0mp\u001b[0m \u001b[1;33m=\u001b[0m \u001b[0mPozyxSerial\u001b[0m\u001b[1;33m(\u001b[0m\u001b[0mport\u001b[0m\u001b[1;33m)\u001b[0m\u001b[1;33m\u001b[0m\u001b[1;33m\u001b[0m\u001b[0m\n\u001b[0m\u001b[0;32m     32\u001b[0m \u001b[1;33m\u001b[0m\u001b[0m\n\u001b[0;32m     33\u001b[0m \u001b[0mremote_id\u001b[0m \u001b[1;33m=\u001b[0m \u001b[1;36m0x675a\u001b[0m          \u001b[1;31m# the network ID of the remote device\u001b[0m\u001b[1;33m\u001b[0m\u001b[1;33m\u001b[0m\u001b[0m\n",
      "\u001b[1;32m~\\anaconda3\\lib\\site-packages\\pypozyx\\pozyx_serial.py\u001b[0m in \u001b[0;36m__init__\u001b[1;34m(self, port, baudrate, timeout, write_timeout, print_output, debug_trace, show_trace, suppress_warnings)\u001b[0m\n\u001b[0;32m    152\u001b[0m         \u001b[0mself\u001b[0m\u001b[1;33m.\u001b[0m\u001b[0msuppress_warnings\u001b[0m \u001b[1;33m=\u001b[0m \u001b[0msuppress_warnings\u001b[0m\u001b[1;33m\u001b[0m\u001b[1;33m\u001b[0m\u001b[0m\n\u001b[0;32m    153\u001b[0m \u001b[1;33m\u001b[0m\u001b[0m\n\u001b[1;32m--> 154\u001b[1;33m         \u001b[0mself\u001b[0m\u001b[1;33m.\u001b[0m\u001b[0mconnectToPozyx\u001b[0m\u001b[1;33m(\u001b[0m\u001b[0mport\u001b[0m\u001b[1;33m,\u001b[0m \u001b[0mbaudrate\u001b[0m\u001b[1;33m,\u001b[0m \u001b[0mtimeout\u001b[0m\u001b[1;33m,\u001b[0m \u001b[0mwrite_timeout\u001b[0m\u001b[1;33m)\u001b[0m\u001b[1;33m\u001b[0m\u001b[1;33m\u001b[0m\u001b[0m\n\u001b[0m\u001b[0;32m    155\u001b[0m \u001b[1;33m\u001b[0m\u001b[0m\n\u001b[0;32m    156\u001b[0m         \u001b[0msleep\u001b[0m\u001b[1;33m(\u001b[0m\u001b[1;36m0.25\u001b[0m\u001b[1;33m)\u001b[0m\u001b[1;33m\u001b[0m\u001b[1;33m\u001b[0m\u001b[0m\n",
      "\u001b[1;32m~\\anaconda3\\lib\\site-packages\\pypozyx\\pozyx_serial.py\u001b[0m in \u001b[0;36mconnectToPozyx\u001b[1;34m(self, port, baudrate, timeout, write_timeout)\u001b[0m\n\u001b[0;32m    180\u001b[0m             \u001b[1;32mraise\u001b[0m \u001b[0mPozyxConnectionError\u001b[0m\u001b[1;33m(\u001b[0m\u001b[1;34m\"Wrong or busy serial port, SerialException: {}\"\u001b[0m\u001b[1;33m.\u001b[0m\u001b[0mformat\u001b[0m\u001b[1;33m(\u001b[0m\u001b[0mstr\u001b[0m\u001b[1;33m(\u001b[0m\u001b[0mexc\u001b[0m\u001b[1;33m)\u001b[0m\u001b[1;33m)\u001b[0m\u001b[1;33m)\u001b[0m\u001b[1;33m\u001b[0m\u001b[1;33m\u001b[0m\u001b[0m\n\u001b[0;32m    181\u001b[0m         \u001b[1;32mexcept\u001b[0m \u001b[0mException\u001b[0m \u001b[1;32mas\u001b[0m \u001b[0mexc\u001b[0m\u001b[1;33m:\u001b[0m\u001b[1;33m\u001b[0m\u001b[1;33m\u001b[0m\u001b[0m\n\u001b[1;32m--> 182\u001b[1;33m             \u001b[1;32mraise\u001b[0m \u001b[0mPozyxConnectionError\u001b[0m\u001b[1;33m(\u001b[0m\u001b[1;34m\"Couldn't connect to Pozyx, {}: {}\"\u001b[0m\u001b[1;33m.\u001b[0m\u001b[0mformat\u001b[0m\u001b[1;33m(\u001b[0m\u001b[0mexc\u001b[0m\u001b[1;33m.\u001b[0m\u001b[0m__class__\u001b[0m\u001b[1;33m.\u001b[0m\u001b[0m__name__\u001b[0m\u001b[1;33m,\u001b[0m \u001b[0mstr\u001b[0m\u001b[1;33m(\u001b[0m\u001b[0mexc\u001b[0m\u001b[1;33m)\u001b[0m\u001b[1;33m)\u001b[0m\u001b[1;33m)\u001b[0m\u001b[1;33m\u001b[0m\u001b[1;33m\u001b[0m\u001b[0m\n\u001b[0m\u001b[0;32m    183\u001b[0m \u001b[1;33m\u001b[0m\u001b[0m\n\u001b[0;32m    184\u001b[0m     \u001b[1;32mdef\u001b[0m \u001b[0mvalidatePozyx\u001b[0m\u001b[1;33m(\u001b[0m\u001b[0mself\u001b[0m\u001b[1;33m)\u001b[0m\u001b[1;33m:\u001b[0m\u001b[1;33m\u001b[0m\u001b[1;33m\u001b[0m\u001b[0m\n",
      "\u001b[1;31mPozyxConnectionError\u001b[0m: Couldn't connect to Pozyx, AttributeError: 'NoneType' object has no attribute 'description'"
     ]
    }
   ],
   "source": [
    "# Ranging #\n",
    "from pypozyx import *\n",
    "import numpy as np\n",
    "from pypozyx.definitions.registers import *\n",
    "import sys\n",
    "import time\n",
    "import serial \n",
    "from numpy.linalg import inv\n",
    "from openpyxl import Workbook\n",
    "write_wb = Workbook()\n",
    "write_ws = write_wb.active\n",
    "\n",
    "def tri(zd, H):\n",
    "    zd = zd.T\n",
    "    H=H-H[0]\n",
    "    tmp = zd[0]\n",
    "    tmp = tmp * tmp\n",
    "    zd = np.delete(zd,(0), axis=0)\n",
    "    r1=np.multiply(zd,zd)\n",
    "    Ha=np.delete(H,(0), axis=0)\n",
    "    K=np.multiply(Ha,Ha)\n",
    "    K=K.sum(axis=1)\n",
    "    b= 0.5*(K-r1+tmp) \n",
    "    S_inv = np.linalg.inv(Ha.T*Ha)*Ha.T\n",
    "    x_hat = S_inv*b\n",
    "    return x_hat\n",
    "\n",
    "########################################## RANGING ##############################################\n",
    "j = 0   \n",
    "port = get_first_pozyx_serial_port()#'/dev/cu.usbmodem3998326833361'\n",
    "p = PozyxSerial(port)\n",
    "\n",
    "remote_id = 0x675a          # the network ID of the remote device\n",
    "remote = False               # whether to use the given remote device for ranging\n",
    "if not remote:\n",
    "    remote_id = None\n",
    "th = 1000\n",
    "dt = 1\n",
    "while True:\n",
    "    \n",
    "    H = np.array([[7.54,0],[7.54,7.21],[14.14,0],[14.14,7.58]])\n",
    "    H2 = np.matrix([[7.54,0],[7.54,7.21],[14.14,0],[14.14,7.58]])         \n",
    "    zd = np.matrix([zd_1,zd_2,zd_3,zd_4])\n",
    "    z_meas = zd*10**(-3)\n",
    "    x_nlos = tri(z_meas*10**(-3),H2)\n",
    "    x_nlos = x_nlos.T+H[0]\n",
    "    print(x_nlos)\n",
    "#################################################################################################\n",
    "#####################                 Cooperative Localization               ####################\n",
    "################################################################################################# \n",
    "    import numpy as np\n",
    "    import proxmin\n",
    "\n",
    "    dX = np.array([1.,0.5])\n",
    "    radius = 1\n",
    "\n",
    "    def f(X):\n",
    "        \"\"\"Shifted parabola\"\"\"\n",
    "        return np.sum((X - dX)**2, axis=-1)\n",
    "\n",
    "    def grad_f(X):\n",
    "        return 2*(X - dX)\n",
    "\n",
    "    def step_f(X, it=0):\n",
    "        L = 2. # Lipschitz constant of grad f\n",
    "        return 1 / L\n",
    "\n",
    "    def prox_circle(X, step):\n",
    "        \"\"\"Projection onto circle\"\"\"\n",
    "        center = np.array([0,0])\n",
    "        dX = X - center\n",
    "        # exclude everything other than perimeter of circle\n",
    "        phi = np.arctan2(dX[1], dX[0])\n",
    "        return center + radius*np.array([np.cos(phi), np.sin(phi)])\n",
    "\n",
    "    X = x_nlos # or whereever\n",
    "    converged, grad, step = proxmin.pgm(X, grad_f, step_f, prox=prox_circle)   \n",
    "    \n",
    "########################################################################################################      \n",
    "#    write_ws['A1'] = 'x'\n",
    "#    write_ws['B1'] = 'y'\n",
    "#    write_ws.cell(i+1,1,x_nlos[(0,0)])\n",
    "#    write_ws.cell(i+1,2,x_nlos[(0,1)])\n",
    "    write_ws.cell(j+1,1,z_meas.item(0))\n",
    "    write_ws.cell(j+1,2,z_meas.item(1))\n",
    "    write_ws.cell(j+1,3,z_meas.item(2))\n",
    "    write_ws.cell(j+1,4,z_meas.item(3))\n",
    "    #write_ws.cell(j+1,3,x_hat[0])\n",
    "    #write_ws.cell(j+1,4,x_hat[1])\n",
    "    write_wb.save('/Users/swbaek/Desktop/ranging_2.xlsx')\n",
    "    j = j+1"
   ]
  },
  {
   "cell_type": "code",
   "execution_count": 5,
   "metadata": {},
   "outputs": [
    {
     "name": "stdout",
     "output_type": "stream",
     "text": [
      "Collecting pypozyx\n",
      "  Using cached pypozyx-1.3.0-py2.py3-none-any.whl (51 kB)\n",
      "Collecting pyserial>=3.0\n",
      "  Using cached pyserial-3.4-py2.py3-none-any.whl (193 kB)\n",
      "Installing collected packages: pyserial, pypozyx\n",
      "Successfully installed pypozyx-1.3.0 pyserial-3.4\n",
      "Note: you may need to restart the kernel to use updated packages.\n"
     ]
    }
   ],
   "source": [
    "pip install pypozyx"
   ]
  },
  {
   "cell_type": "code",
   "execution_count": null,
   "metadata": {},
   "outputs": [],
   "source": [
    "pip install pyserial"
   ]
  },
  {
   "cell_type": "code",
   "execution_count": 7,
   "metadata": {},
   "outputs": [
    {
     "name": "stdout",
     "output_type": "stream",
     "text": [
      "0.0\n"
     ]
    }
   ],
   "source": [
    "print(z_meas.item(0))"
   ]
  },
  {
   "cell_type": "code",
   "execution_count": null,
   "metadata": {},
   "outputs": [],
   "source": []
  }
 ],
 "metadata": {
  "kernelspec": {
   "display_name": "Python 3",
   "language": "python",
   "name": "python3"
  },
  "language_info": {
   "codemirror_mode": {
    "name": "ipython",
    "version": 3
   },
   "file_extension": ".py",
   "mimetype": "text/x-python",
   "name": "python",
   "nbconvert_exporter": "python",
   "pygments_lexer": "ipython3",
   "version": "3.7.6"
  }
 },
 "nbformat": 4,
 "nbformat_minor": 4
}
