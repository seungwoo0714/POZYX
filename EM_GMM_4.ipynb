{
 "cells": [
  {
   "cell_type": "code",
   "execution_count": 1,
   "metadata": {},
   "outputs": [
    {
     "ename": "AxisError",
     "evalue": "axis 1 is out of bounds for array of dimension 1",
     "output_type": "error",
     "traceback": [
      "\u001b[0;31m---------------------------------------------------------------------------\u001b[0m",
      "\u001b[0;31mAxisError\u001b[0m                                 Traceback (most recent call last)",
      "\u001b[0;32m<ipython-input-1-99d951708f5e>\u001b[0m in \u001b[0;36m<module>\u001b[0;34m\u001b[0m\n\u001b[1;32m    174\u001b[0m     \u001b[0mmu_arr\u001b[0m \u001b[0;34m=\u001b[0m \u001b[0mnp\u001b[0m\u001b[0;34m.\u001b[0m\u001b[0marray\u001b[0m\u001b[0;34m(\u001b[0m\u001b[0;34m[\u001b[0m\u001b[0mzd_col_1\u001b[0m\u001b[0;34m,\u001b[0m\u001b[0mzd_col_2\u001b[0m\u001b[0;34m,\u001b[0m\u001b[0mzd_col_3\u001b[0m\u001b[0;34m,\u001b[0m\u001b[0mzd_col_4\u001b[0m\u001b[0;34m]\u001b[0m\u001b[0;34m)\u001b[0m\u001b[0;34m\u001b[0m\u001b[0;34m\u001b[0m\u001b[0m\n\u001b[1;32m    175\u001b[0m \u001b[0;34m\u001b[0m\u001b[0m\n\u001b[0;32m--> 176\u001b[0;31m     \u001b[0mX\u001b[0m \u001b[0;34m=\u001b[0m \u001b[0mnp\u001b[0m\u001b[0;34m.\u001b[0m\u001b[0mappend\u001b[0m\u001b[0;34m(\u001b[0m\u001b[0mX\u001b[0m\u001b[0;34m,\u001b[0m\u001b[0mmu_arr\u001b[0m\u001b[0;34m,\u001b[0m\u001b[0maxis\u001b[0m \u001b[0;34m=\u001b[0m \u001b[0;36m1\u001b[0m\u001b[0;34m)\u001b[0m\u001b[0;34m\u001b[0m\u001b[0;34m\u001b[0m\u001b[0m\n\u001b[0m\u001b[1;32m    177\u001b[0m     \u001b[0mX1\u001b[0m \u001b[0;34m=\u001b[0m \u001b[0mnp\u001b[0m\u001b[0;34m.\u001b[0m\u001b[0mappend\u001b[0m\u001b[0;34m(\u001b[0m\u001b[0mX1\u001b[0m\u001b[0;34m,\u001b[0m\u001b[0mzd_col_1\u001b[0m\u001b[0;34m)\u001b[0m\u001b[0;34m\u001b[0m\u001b[0;34m\u001b[0m\u001b[0m\n\u001b[1;32m    178\u001b[0m     \u001b[0mX2\u001b[0m \u001b[0;34m=\u001b[0m \u001b[0mnp\u001b[0m\u001b[0;34m.\u001b[0m\u001b[0mappend\u001b[0m\u001b[0;34m(\u001b[0m\u001b[0mX2\u001b[0m\u001b[0;34m,\u001b[0m\u001b[0mzd_col_2\u001b[0m\u001b[0;34m)\u001b[0m\u001b[0;34m\u001b[0m\u001b[0;34m\u001b[0m\u001b[0m\n",
      "\u001b[0;32m<__array_function__ internals>\u001b[0m in \u001b[0;36mappend\u001b[0;34m(*args, **kwargs)\u001b[0m\n",
      "\u001b[0;32m~/opt/anaconda3/lib/python3.8/site-packages/numpy/lib/function_base.py\u001b[0m in \u001b[0;36mappend\u001b[0;34m(arr, values, axis)\u001b[0m\n\u001b[1;32m   4691\u001b[0m         \u001b[0mvalues\u001b[0m \u001b[0;34m=\u001b[0m \u001b[0mravel\u001b[0m\u001b[0;34m(\u001b[0m\u001b[0mvalues\u001b[0m\u001b[0;34m)\u001b[0m\u001b[0;34m\u001b[0m\u001b[0;34m\u001b[0m\u001b[0m\n\u001b[1;32m   4692\u001b[0m         \u001b[0maxis\u001b[0m \u001b[0;34m=\u001b[0m \u001b[0marr\u001b[0m\u001b[0;34m.\u001b[0m\u001b[0mndim\u001b[0m\u001b[0;34m-\u001b[0m\u001b[0;36m1\u001b[0m\u001b[0;34m\u001b[0m\u001b[0;34m\u001b[0m\u001b[0m\n\u001b[0;32m-> 4693\u001b[0;31m     \u001b[0;32mreturn\u001b[0m \u001b[0mconcatenate\u001b[0m\u001b[0;34m(\u001b[0m\u001b[0;34m(\u001b[0m\u001b[0marr\u001b[0m\u001b[0;34m,\u001b[0m \u001b[0mvalues\u001b[0m\u001b[0;34m)\u001b[0m\u001b[0;34m,\u001b[0m \u001b[0maxis\u001b[0m\u001b[0;34m=\u001b[0m\u001b[0maxis\u001b[0m\u001b[0;34m)\u001b[0m\u001b[0;34m\u001b[0m\u001b[0;34m\u001b[0m\u001b[0m\n\u001b[0m\u001b[1;32m   4694\u001b[0m \u001b[0;34m\u001b[0m\u001b[0m\n\u001b[1;32m   4695\u001b[0m \u001b[0;34m\u001b[0m\u001b[0m\n",
      "\u001b[0;32m<__array_function__ internals>\u001b[0m in \u001b[0;36mconcatenate\u001b[0;34m(*args, **kwargs)\u001b[0m\n",
      "\u001b[0;31mAxisError\u001b[0m: axis 1 is out of bounds for array of dimension 1"
     ]
    }
   ],
   "source": [
    "from pypozyx import *\n",
    "import serial \n",
    "import numpy as np\n",
    "from pypozyx.definitions.registers import *\n",
    "from scipy import stats\n",
    "import scipy as sp\n",
    "import matplotlib.pyplot as plt\n",
    "import seaborn as sns\n",
    "import random \n",
    "from openpyxl import Workbook\n",
    "from openpyxl import load_workbook\n",
    "\n",
    "write_wb = Workbook()\n",
    "write_ws = write_wb.active\n",
    "\n",
    "class GMM(object):\n",
    "    def __init__(self, X, k=1):\n",
    "        # dimension\n",
    "        X = np.asarray(X)\n",
    "        self.m, self.n = X.shape\n",
    "        self.data = X.copy()\n",
    "        # number of mixtures\n",
    "        self.k = k\n",
    "        \n",
    "    def _init(self):\n",
    "        # init mixture means/sigmas\n",
    "        self.mean_arr = np.asmatrix(np.random.random((self.k, self.n)))\n",
    "        self.sigma_arr = np.array([np.asmatrix(np.identity(self.n)) for i in range(self.k)])\n",
    "        self.phi = np.ones(self.k)/self.k\n",
    "        self.w = np.asmatrix(np.empty((self.m, self.k), dtype=float))\n",
    "        #print(self.mean_arr)\n",
    "        #print(self.sigma_arr)\n",
    "    \n",
    "    def fit(self, tol=1e-4):\n",
    "        self._init()\n",
    "        num_iters = 0\n",
    "        ll = 1\n",
    "        previous_ll = 0\n",
    "        while(ll-previous_ll > tol):\n",
    "            previous_ll = self.loglikelihood()\n",
    "            self._fit()\n",
    "            num_iters += 1\n",
    "            ll = self.loglikelihood()\n",
    "            #print('Iteration %d: log-likelihood is %.6f'%(num_iters, ll))\n",
    "        #print('Terminate at %d-th iteration:log-likelihood is %.6f'%(num_iters, ll))\n",
    "    \n",
    "    def loglikelihood(self):\n",
    "        ll = 0\n",
    "        for i in range(self.m):\n",
    "            tmp = 0\n",
    "            for j in range(self.k):\n",
    "                #print(self.sigma_arr[j])\n",
    "                tmp += sp.stats.multivariate_normal.pdf(self.data[i, :], \n",
    "                                                        self.mean_arr[j, :].A1, \n",
    "                                                        self.sigma_arr[j, :]) *\\\n",
    "                       self.phi[j]\n",
    "            ll += np.log(tmp) \n",
    "        return ll\n",
    "    \n",
    "    def _fit(self):\n",
    "        self.e_step()\n",
    "        self.m_step()\n",
    "        \n",
    "    def e_step(self):\n",
    "        # calculate w_j^{(i)}\n",
    "        for i in range(self.m):\n",
    "            den = 0\n",
    "            for j in range(self.k):\n",
    "                num = sp.stats.multivariate_normal.pdf(self.data[i, :], \n",
    "                                                       self.mean_arr[j].A1, \n",
    "                                                       self.sigma_arr[j]) *\\\n",
    "                      self.phi[j]\n",
    "                den += num\n",
    "                self.w[i, j] = num\n",
    "            self.w[i, :] /= den\n",
    "            assert self.w[i, :].sum() - 1 < 1e-4\n",
    "            \n",
    "    def m_step(self):\n",
    "        for j in range(self.k):\n",
    "            const = self.w[:, j].sum()\n",
    "            self.phi[j] = 1/self.m * const\n",
    "            _mu_j = np.zeros(self.n)\n",
    "            _sigma_j = np.zeros((self.n, self.n))\n",
    "            for i in range(self.m):\n",
    "                _mu_j += (self.data[i, :] * self.w[i, j])\n",
    "                _sigma_j += self.w[i, j] * ((self.data[i, :] - self.mean_arr[j, :]).T * (self.data[i, :] - self.mean_arr[j, :]))\n",
    "                #print((self.data[i, :] - self.mean_arr[j, :]).T * (self.data[i, :] - self.mean_arr[j, :]))\n",
    "            self.mean_arr[j] = _mu_j / const\n",
    "            self.sigma_arr[j] = _sigma_j / const\n",
    "            #print(self.mean_arr)\n",
    "            \n",
    "def tri(zd, H):\n",
    "    zd = zd.T\n",
    "    H=H-H[0]\n",
    "    tmp = zd[0]\n",
    "    tmp = tmp * tmp\n",
    "    zd = np.delete(zd,(0), axis=0)\n",
    "    r1=np.multiply(zd,zd)\n",
    "    Ha=np.delete(H,(0), axis=0)\n",
    "    K=np.multiply(Ha,Ha)\n",
    "    K=K.sum(axis=1)\n",
    "    b= 0.5*(K-r1+tmp) \n",
    "    S_inv = np.linalg.inv(Ha.T*Ha)*Ha.T\n",
    "    x_hat = S_inv*b\n",
    "    return x_hat\n",
    "\n",
    "import os\n",
    "import psutil\n",
    "\n",
    "def _check_usage_of_cpu_and_memory():\n",
    "    \n",
    "    pid = os.getpid()\n",
    "    py  = psutil.Process(pid)\n",
    "    \n",
    "    cpu_usage   = os.popen(\"ps aux | grep \" + str(pid) + \" | grep -v grep | awk '{print $3}'\").read()\n",
    "    cpu_usage   = cpu_usage.replace(\"\\n\",\"\")\n",
    "    \n",
    "    memory_usage  = round(py.memory_info()[0] /2.**30, 2)\n",
    "    \n",
    "    print(\"cpu usage\\t\\t:\", cpu_usage, \"%\")\n",
    "    print(\"memory usage\\t\\t:\", memory_usage, \"%\")\n",
    "\n",
    "bias = 0\n",
    "std = 0.5\n",
    "cdf = np.random.random(100)\n",
    "\n",
    "for j in range(0,804):\n",
    "    \n",
    "    x = np.array([7.54,4.8])\n",
    "    x = np.array([15*random.random(),15*random.random()])\n",
    "    H = np.array([[7.54,0],[7.54,7.21],[14.14,0],[14.14,7.58]])\n",
    "    H2 = np.matrix([[7.54,0],[7.54,7.21],[14.14,0],[14.14,7.58]])\n",
    "    d = x-H\n",
    "    d = np.multiply(d,d)\n",
    "    d = np.sqrt(d.sum(axis=1))\n",
    "\n",
    "    d_col_1 = d[0]\n",
    "    d_col_2 = d[1] \n",
    "    d_col_3 = d[2]\n",
    "    d_col_4 = d[3]\n",
    "    real_arr = np.array([d_col_1,d_col_2,d_col_3,d_col_4])\n",
    "\n",
    "    zd = np.matrix([d_col_1,d_col_2,d_col_3,d_col_4])\n",
    "    x_hat = tri(zd,H2)\n",
    "    x_hat = x_hat.T+H[0]\n",
    "\n",
    "    SAMPLE = 100\n",
    "    \n",
    "    load_wb = load_workbook(\"/Users/swbaek/Desktop/ranging_1.xlsx\", data_only=True)\n",
    "    #시트 이름으로 불러오기\n",
    "    load_ws = load_wb['Sheet']\n",
    "    zd_1=load_ws.cell(j+1,1).value\n",
    "    zd_2=load_ws.cell(j+1,2).value\n",
    "    zd_3=load_ws.cell(j+1,3).value\n",
    "    zd_4=load_ws.cell(j+1,4).value\n",
    "    \n",
    "    zd_col_tmp_1 = zd_1#d[0] + np.random.normal(bias,std,1)\n",
    "    zd_col_tmp_2 = zd_2#d[1] + np.random.normal(bias,std,1)\n",
    "    zd_col_tmp_3 = zd_3#d[2] + np.random.normal(bias,std,1)\n",
    "    zd_col_tmp_4 = zd_4#d[3] + np.random.normal(bias,std,1)\n",
    "\n",
    "    X1 = zd_col_tmp_1 \n",
    "    X2 = zd_col_tmp_2\n",
    "    X3 = zd_col_tmp_3\n",
    "    X4 = zd_col_tmp_4\n",
    "    zd = np.matrix([zd_col_tmp_1,zd_col_tmp_2,zd_col_tmp_3,zd_col_tmp_4])\n",
    "\n",
    "    X = np.array([zd_col_tmp_1,zd_col_tmp_2,zd_col_tmp_3,zd_col_tmp_4])\n",
    "\n",
    "    zd_col_1 = zd_col_tmp_1 + np.random.normal(0,1,SAMPLE-1)\n",
    "    zd_col_2 = zd_col_tmp_2 + np.random.normal(0,1,SAMPLE-1)\n",
    "    zd_col_3 = zd_col_tmp_3 + np.random.normal(0,1,SAMPLE-1)\n",
    "    zd_col_4 = zd_col_tmp_4 + np.random.normal(0,1,SAMPLE-1)\n",
    "    mu_arr = np.array([zd_col_1,zd_col_2,zd_col_3,zd_col_4])\n",
    "    \n",
    "    X = np.append(X,mu_arr,axis = 1)\n",
    "    X1 = np.append(X1,zd_col_1)\n",
    "    X2 = np.append(X2,zd_col_2)\n",
    "    X3 = np.append(X3,zd_col_3)\n",
    "    X4 = np.append(X4,zd_col_4)\n",
    "    X_rev = np.transpose(X)\n",
    "\n",
    "    t = range(0,SAMPLE)\n",
    "    gmm = GMM(X_rev)\n",
    "    gmm.fit()\n",
    "    dist_1 = gmm.mean_arr[0,0]\n",
    "    dist_2 = gmm.mean_arr[0,1]\n",
    "    dist_3 = gmm.mean_arr[0,2]\n",
    "    dist_4 = gmm.mean_arr[0,3]\n",
    "    zd = np.matrix([dist_1,dist_2,dist_3,dist_4])\n",
    "    x_hat = tri(zd,H2)\n",
    "    x_hat = x_hat.T+H[0]\n",
    "\n",
    "    write_ws['A1'] = 'Result'\n",
    "    write_ws.cell(j+1,1,x_hat[0][0])\n",
    "    write_ws.cell(j+1,2,x_hat[0][1])\n",
    "\n",
    "    write_wb.save('/Users/swbaek/Desktop/em_result.xlsx')#('/Users/swbaek/Desktop/deviation.xlsx')"
   ]
  },
  {
   "cell_type": "code",
   "execution_count": 11,
   "metadata": {},
   "outputs": [
    {
     "data": {
      "text/plain": [
       "array([6.71983125, 6.54210089, 6.4610155 , 8.20932715])"
      ]
     },
     "execution_count": 11,
     "metadata": {},
     "output_type": "execute_result"
    }
   ],
   "source": [
    "X_rev[range(0,SAMPLE)][0]"
   ]
  },
  {
   "cell_type": "code",
   "execution_count": 105,
   "metadata": {},
   "outputs": [
    {
     "name": "stdout",
     "output_type": "stream",
     "text": [
      "4.763750551053947\n"
     ]
    }
   ],
   "source": [
    "print(gmm.mean_arr[0,0])"
   ]
  },
  {
   "cell_type": "code",
   "execution_count": 11,
   "metadata": {},
   "outputs": [
    {
     "name": "stdout",
     "output_type": "stream",
     "text": [
      "[0.    5.009 5.047 6.335]\n"
     ]
    }
   ],
   "source": [
    "print(X)"
   ]
  },
  {
   "cell_type": "code",
   "execution_count": 1,
   "metadata": {},
   "outputs": [
    {
     "ename": "NameError",
     "evalue": "name 'x_hat' is not defined",
     "output_type": "error",
     "traceback": [
      "\u001b[0;31m---------------------------------------------------------------------------\u001b[0m",
      "\u001b[0;31mNameError\u001b[0m                                 Traceback (most recent call last)",
      "\u001b[0;32m<ipython-input-1-0551754897f5>\u001b[0m in \u001b[0;36m<module>\u001b[0;34m\u001b[0m\n\u001b[0;32m----> 1\u001b[0;31m \u001b[0mprint\u001b[0m\u001b[0;34m(\u001b[0m\u001b[0mx_hat\u001b[0m\u001b[0;34m[\u001b[0m\u001b[0;36m1\u001b[0m\u001b[0;34m]\u001b[0m\u001b[0;34m)\u001b[0m\u001b[0;34m\u001b[0m\u001b[0;34m\u001b[0m\u001b[0m\n\u001b[0m",
      "\u001b[0;31mNameError\u001b[0m: name 'x_hat' is not defined"
     ]
    }
   ],
   "source": [
    "print(x_hat[1])"
   ]
  },
  {
   "cell_type": "code",
   "execution_count": 3,
   "metadata": {},
   "outputs": [
    {
     "name": "stdout",
     "output_type": "stream",
     "text": [
      "[[4.8        2.41       8.16088231 7.161592  ]]\n"
     ]
    }
   ],
   "source": [
    "import numpy as np\n",
    "x = np.array([7.54,4.8])\n",
    "\n",
    "H = np.array([[7.54,0],[7.54,7.21],[14.14,0],[14.14,7.58]])\n",
    "H2 = np.matrix([[7.54,0],[7.54,7.21],[14.14,0],[14.14,7.58]])\n",
    "d = x-H\n",
    "d = np.multiply(d,d)\n",
    "d = np.sqrt(d.sum(axis=1))\n",
    "\n",
    "d_col_1 = d[0]\n",
    "d_col_2 = d[1] \n",
    "d_col_3 = d[2]\n",
    "d_col_4 = d[3]\n",
    "real_arr = np.array([d_col_1,d_col_2,d_col_3,d_col_4])\n",
    "\n",
    "zd = np.matrix([d_col_1,d_col_2,d_col_3,d_col_4])\n",
    "print(zd)"
   ]
  },
  {
   "cell_type": "code",
   "execution_count": null,
   "metadata": {},
   "outputs": [],
   "source": []
  }
 ],
 "metadata": {
  "kernelspec": {
   "display_name": "Python 3",
   "language": "python",
   "name": "python3"
  },
  "language_info": {
   "codemirror_mode": {
    "name": "ipython",
    "version": 3
   },
   "file_extension": ".py",
   "mimetype": "text/x-python",
   "name": "python",
   "nbconvert_exporter": "python",
   "pygments_lexer": "ipython3",
   "version": "3.8.3"
  }
 },
 "nbformat": 4,
 "nbformat_minor": 4
}
